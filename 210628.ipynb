{
 "cells": [
  {
   "cell_type": "code",
   "execution_count": 3,
   "id": "d0cda1b4",
   "metadata": {},
   "outputs": [
    {
     "data": {
      "text/plain": [
       "2"
      ]
     },
     "execution_count": 3,
     "metadata": {},
     "output_type": "execute_result"
    }
   ],
   "source": [
    "1+1"
   ]
  },
  {
   "cell_type": "markdown",
   "id": "aa5a7d3c",
   "metadata": {},
   "source": [
    "sdfsd"
   ]
  },
  {
   "cell_type": "markdown",
   "id": "6d6aa457",
   "metadata": {},
   "source": [
    "# 한 개\n",
    "## 두 개\n",
    "### 세 개"
   ]
  },
  {
   "cell_type": "code",
   "execution_count": 5,
   "id": "e0bca743",
   "metadata": {},
   "outputs": [
    {
     "name": "stdout",
     "output_type": "stream",
     "text": [
      "python\n"
     ]
    }
   ],
   "source": [
    "print('python')"
   ]
  },
  {
   "cell_type": "code",
   "execution_count": 6,
   "id": "2f4b18d7",
   "metadata": {},
   "outputs": [],
   "source": [
    "a = 123\n",
    "a = -178\n",
    "a = 0"
   ]
  },
  {
   "cell_type": "code",
   "execution_count": 7,
   "id": "b7f1365c",
   "metadata": {},
   "outputs": [
    {
     "data": {
      "text/plain": [
       "'Python is fun'"
      ]
     },
     "execution_count": 7,
     "metadata": {},
     "output_type": "execute_result"
    }
   ],
   "source": [
    "head = \"Python\"\n",
    "tail = \" is fun\"\n",
    "head + tail"
   ]
  },
  {
   "cell_type": "code",
   "execution_count": 8,
   "id": "71100eee",
   "metadata": {},
   "outputs": [
    {
     "name": "stdout",
     "output_type": "stream",
     "text": [
      "age is 24\n"
     ]
    }
   ],
   "source": [
    "age = 24\n",
    "print('age', 'is', age)"
   ]
  },
  {
   "cell_type": "code",
   "execution_count": 16,
   "id": "a2d39af2",
   "metadata": {},
   "outputs": [
    {
     "data": {
      "text/plain": [
       "'l'"
      ]
     },
     "execution_count": 16,
     "metadata": {},
     "output_type": "execute_result"
    }
   ],
   "source": [
    "a = \"life is too short, You need python\"\n",
    "a[0]"
   ]
  },
  {
   "cell_type": "code",
   "execution_count": 10,
   "id": "8a02e46e",
   "metadata": {
    "scrolled": true
   },
   "outputs": [
    {
     "data": {
      "text/plain": [
       "'s'"
      ]
     },
     "execution_count": 10,
     "metadata": {},
     "output_type": "execute_result"
    }
   ],
   "source": [
    "a[12]"
   ]
  },
  {
   "cell_type": "code",
   "execution_count": 13,
   "id": "48955974",
   "metadata": {},
   "outputs": [
    {
     "name": "stdout",
     "output_type": "stream",
     "text": [
      "정수 입력 : 3\n"
     ]
    }
   ],
   "source": [
    "b = int(input('정수 입력 : '))"
   ]
  },
  {
   "cell_type": "code",
   "execution_count": 17,
   "id": "a669de50",
   "metadata": {},
   "outputs": [
    {
     "data": {
      "text/plain": [
       "'life'"
      ]
     },
     "execution_count": 17,
     "metadata": {},
     "output_type": "execute_result"
    }
   ],
   "source": [
    "a[0:4]"
   ]
  },
  {
   "cell_type": "code",
   "execution_count": 18,
   "id": "6197b30d",
   "metadata": {},
   "outputs": [
    {
     "data": {
      "text/plain": [
       "'I eat 3 apples.'"
      ]
     },
     "execution_count": 18,
     "metadata": {},
     "output_type": "execute_result"
    }
   ],
   "source": [
    "\"I eat %d apples.\" %3"
   ]
  },
  {
   "cell_type": "code",
   "execution_count": 19,
   "id": "61cbeec8",
   "metadata": {},
   "outputs": [
    {
     "data": {
      "text/plain": [
       "'        hi'"
      ]
     },
     "execution_count": 19,
     "metadata": {},
     "output_type": "execute_result"
    }
   ],
   "source": [
    "\"%10s\" % \"hi\""
   ]
  },
  {
   "cell_type": "code",
   "execution_count": 20,
   "id": "09b2f5ad",
   "metadata": {},
   "outputs": [
    {
     "data": {
      "text/plain": [
       "'hi        jane'"
      ]
     },
     "execution_count": 20,
     "metadata": {},
     "output_type": "execute_result"
    }
   ],
   "source": [
    "\"%-10sjane\" % 'hi'"
   ]
  },
  {
   "cell_type": "code",
   "execution_count": 21,
   "id": "dbb24d93",
   "metadata": {},
   "outputs": [
    {
     "data": {
      "text/plain": [
       "'3.4213'"
      ]
     },
     "execution_count": 21,
     "metadata": {},
     "output_type": "execute_result"
    }
   ],
   "source": [
    "\"%0.4f\" % 3.42134234"
   ]
  },
  {
   "cell_type": "code",
   "execution_count": 22,
   "id": "43ef4632",
   "metadata": {},
   "outputs": [
    {
     "data": {
      "text/plain": [
       "'    3.4213'"
      ]
     },
     "execution_count": 22,
     "metadata": {},
     "output_type": "execute_result"
    }
   ],
   "source": [
    "\"%10.4f\" % 3.42134234"
   ]
  },
  {
   "cell_type": "code",
   "execution_count": 23,
   "id": "f41e4757",
   "metadata": {},
   "outputs": [
    {
     "name": "stdout",
     "output_type": "stream",
     "text": [
      "Life is too short, \n",
      " you need python\n"
     ]
    }
   ],
   "source": [
    "multiline = \"Life is too short, \\n you need python\"\n",
    "print(multiline)"
   ]
  },
  {
   "cell_type": "markdown",
   "id": "f58e6155",
   "metadata": {},
   "source": [
    "* 문자열 포맷 코드\n",
    "%s : string\n",
    "%c : character\n",
    "%d : integer\n",
    "%f : 부동소수점\n",
    "%o : 8진수\n",
    "%x : 16진수\n",
    "%% : 문자 % 자체"
   ]
  }
 ],
 "metadata": {
  "kernelspec": {
   "display_name": "Python 3",
   "language": "python",
   "name": "python3"
  },
  "language_info": {
   "codemirror_mode": {
    "name": "ipython",
    "version": 3
   },
   "file_extension": ".py",
   "mimetype": "text/x-python",
   "name": "python",
   "nbconvert_exporter": "python",
   "pygments_lexer": "ipython3",
   "version": "3.8.8"
  }
 },
 "nbformat": 4,
 "nbformat_minor": 5
}
