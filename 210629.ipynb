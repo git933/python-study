{
  "nbformat": 4,
  "nbformat_minor": 0,
  "metadata": {
    "colab": {
      "name": "210629.ipynb",
      "provenance": [],
      "collapsed_sections": [],
      "authorship_tag": "ABX9TyM1enWdFSbrkgI5ifURtt1g",
      "include_colab_link": true
    },
    "kernelspec": {
      "name": "python3",
      "display_name": "Python 3"
    },
    "language_info": {
      "name": "python"
    }
  },
  "cells": [
    {
      "cell_type": "markdown",
      "metadata": {
        "id": "view-in-github",
        "colab_type": "text"
      },
      "source": [
        "<a href=\"https://colab.research.google.com/github/git933/python-study/blob/main/210629.ipynb\" target=\"_parent\"><img src=\"https://colab.research.google.com/assets/colab-badge.svg\" alt=\"Open In Colab\"/></a>"
      ]
    },
    {
      "cell_type": "markdown",
      "metadata": {
        "id": "oC7x4vyTSIEh"
      },
      "source": [
        "# 백준 10773 : 제로"
      ]
    },
    {
      "cell_type": "code",
      "metadata": {
        "colab": {
          "base_uri": "https://localhost:8080/"
        },
        "id": "ABm3Xz-7PMKB",
        "outputId": "06845bc2-9525-416f-8c09-079a8d308689"
      },
      "source": [
        "a = int(input())\n",
        "stack = []\n",
        "\n",
        "for i in range(a):\n",
        "  num = int(input())\n",
        "  if num == 0:\n",
        "    stack.pop()\n",
        "  else:\n",
        "    stack.append(num)\n",
        "\n",
        "print(sum(stack))"
      ],
      "execution_count": 23,
      "outputs": [
        {
          "output_type": "stream",
          "text": [
            "4\n",
            "3\n",
            "0\n",
            "4\n",
            "0\n",
            "0\n"
          ],
          "name": "stdout"
        }
      ]
    },
    {
      "cell_type": "markdown",
      "metadata": {
        "id": "j8Ecz7LKXgZK"
      },
      "source": [
        "\n",
        "\n",
        "---\n",
        "\n"
      ]
    },
    {
      "cell_type": "markdown",
      "metadata": {
        "id": "XLkEEN_-SNLV"
      },
      "source": [
        "# 프로그래머스 : 두 개 뽑아서 더하기"
      ]
    },
    {
      "cell_type": "code",
      "metadata": {
        "id": "WY2P14VESaUW"
      },
      "source": [
        "def solution(numbers):\n",
        "  number = []\n",
        "  answer = []\n",
        "\n",
        "  number = int(input())\n",
        "  for i in range():\n",
        "    for j in range():\n",
        "\n",
        "  return answer"
      ],
      "execution_count": null,
      "outputs": []
    },
    {
      "cell_type": "markdown",
      "metadata": {
        "id": "pNszHoa6Yngj"
      },
      "source": [
        "문제 이해하기도 어려웠음\n",
        "\n",
        "2 1 3 4 1\n",
        "\n",
        "2 1 3 4 1\n",
        "\n",
        "\n",
        "3 5 6 3\n",
        "\n",
        "3 4 5 2\n",
        "\n",
        "5 4 7 4\n",
        "\n",
        "6 5 7 5\n",
        "\n",
        "3 2 4 5\n",
        "\n",
        "\n",
        "-> 2 3 4 5 6 7"
      ]
    },
    {
      "cell_type": "markdown",
      "metadata": {
        "id": "OIruD1_Bntp_"
      },
      "source": [
        "포기~~"
      ]
    },
    {
      "cell_type": "markdown",
      "metadata": {
        "id": "4KErjO4QXhS3"
      },
      "source": [
        "\n",
        "\n",
        "---\n",
        "\n"
      ]
    }
  ]
}