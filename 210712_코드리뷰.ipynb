{
  "nbformat": 4,
  "nbformat_minor": 0,
  "metadata": {
    "colab": {
      "name": "210712 코드리뷰.ipynb",
      "provenance": [],
      "collapsed_sections": [],
      "authorship_tag": "ABX9TyN52k85bDp6gmhDyD54YTpB",
      "include_colab_link": true
    },
    "kernelspec": {
      "name": "python3",
      "display_name": "Python 3"
    },
    "language_info": {
      "name": "python"
    }
  },
  "cells": [
    {
      "cell_type": "markdown",
      "metadata": {
        "id": "view-in-github",
        "colab_type": "text"
      },
      "source": [
        "<a href=\"https://colab.research.google.com/github/git933/python_study-pm7-10/blob/main/210712_%EC%BD%94%EB%93%9C%EB%A6%AC%EB%B7%B0.ipynb\" target=\"_parent\"><img src=\"https://colab.research.google.com/assets/colab-badge.svg\" alt=\"Open In Colab\"/></a>"
      ]
    },
    {
      "cell_type": "markdown",
      "metadata": {
        "id": "Vk-duexrVQ2G"
      },
      "source": [
        "**2016년**"
      ]
    },
    {
      "cell_type": "markdown",
      "metadata": {
        "id": "UzMgdPF9RsAm"
      },
      "source": [
        "제한조건 지킨 코드 (프로그래머스에서는 14테스트만 틀림)"
      ]
    },
    {
      "cell_type": "code",
      "metadata": {
        "id": "NNYLEW8zSMUl",
        "colab": {
          "base_uri": "https://localhost:8080/"
        },
        "outputId": "4a7103a8-1ad8-4b70-e412-b86efb573ee6"
      },
      "source": [
        "def solution(a,b):\n",
        "  m = [31, 29, 31, 30, 31, 30, 31, 31, 30, 31, 30, 31]\n",
        "  d = [\"THU\", \"FRI\", \"SAT\", \"SUN\", \"MON\", \"TUE\", \"WED\"]\n",
        "  \n",
        "  if a<=0 or a>=12 or b<=0 or b>=31:\n",
        "    return 0\n",
        "\n",
        "  answer = d[(sum(m[:a-1]) + b) % 7]\n",
        "  return answer\n",
        "\n",
        "print(solution(1, 2))"
      ],
      "execution_count": 44,
      "outputs": [
        {
          "output_type": "stream",
          "text": [
            "SAT\n"
          ],
          "name": "stdout"
        }
      ]
    },
    {
      "cell_type": "markdown",
      "metadata": {
        "id": "OIZDMMKdRwSl"
      },
      "source": [
        "제출한 코드 + 주석"
      ]
    },
    {
      "cell_type": "code",
      "metadata": {
        "colab": {
          "base_uri": "https://localhost:8080/"
        },
        "id": "E6lCHVegPljG",
        "outputId": "3ca52ed3-049f-40ee-86e3-5f6e88cbc714"
      },
      "source": [
        "def solution(a,b):  # a : month, b : day\n",
        "  m = [31, 29, 31, 30, 31, 30, 31, 31, 30, 31, 30, 31]  # list of month\n",
        "  d = [\"THU\", \"FRI\", \"SAT\", \"SUN\", \"MON\", \"TUE\", \"WED\"] # list of day\n",
        "    # [   0,    1,      2,    3,      4,    5,    6]\n",
        "\n",
        "  answer = d[(sum(m[:a-1]) + b) % 7]  # calculate the count of days\n",
        "          # index starts with 0\n",
        "  return answer\n",
        "\n",
        "print(solution(1, 1))"
      ],
      "execution_count": 42,
      "outputs": [
        {
          "output_type": "stream",
          "text": [
            "FRI\n"
          ],
          "name": "stdout"
        }
      ]
    }
  ]
}