{
  "nbformat": 4,
  "nbformat_minor": 0,
  "metadata": {
    "colab": {
      "name": "210719 코드리뷰.ipynb",
      "provenance": [],
      "collapsed_sections": [],
      "mount_file_id": "1IHAkYzE2Uy2juzolyONtReoeJO0e0Fx_",
      "authorship_tag": "ABX9TyOjRWdf6bcRcab0vMbkP/RB",
      "include_colab_link": true
    },
    "kernelspec": {
      "name": "python3",
      "display_name": "Python 3"
    },
    "language_info": {
      "name": "python"
    }
  },
  "cells": [
    {
      "cell_type": "markdown",
      "metadata": {
        "id": "view-in-github",
        "colab_type": "text"
      },
      "source": [
        "<a href=\"https://colab.research.google.com/github/git933/python_study-pm7-10/blob/main/210719_%EC%BD%94%EB%93%9C%EB%A6%AC%EB%B7%B0.ipynb\" target=\"_parent\"><img src=\"https://colab.research.google.com/assets/colab-badge.svg\" alt=\"Open In Colab\"/></a>"
      ]
    },
    {
      "cell_type": "markdown",
      "metadata": {
        "id": "xH3sGtPdSGqF"
      },
      "source": [
        "프로그래머스"
      ]
    },
    {
      "cell_type": "markdown",
      "metadata": {
        "id": "KBgU53N81Mis"
      },
      "source": [
        "# 1. 숫자 문자열과 영단어"
      ]
    },
    {
      "cell_type": "code",
      "metadata": {
        "colab": {
          "base_uri": "https://localhost:8080/"
        },
        "id": "iECROQBH1K2u",
        "outputId": "770ee7f0-8896-4f67-f4c2-e15fd1c4e8d5"
      },
      "source": [
        "def solution(s):\n",
        "    answer = '' \n",
        "    res = ['zero', 'one', 'two', 'three', 'four', 'five', 'six', 'seven', 'eight', 'nine']\n",
        "\n",
        "    for i, e in enumerate(res): # i : index, e : english\n",
        "      if e in s:\n",
        "        s = s.replace(e, str(i))\n",
        "      answer = s\n",
        "\n",
        "    return int(answer)\n",
        "\n",
        "\n",
        "solution(\"2three45sixseven\")"
      ],
      "execution_count": null,
      "outputs": [
        {
          "output_type": "execute_result",
          "data": {
            "text/plain": [
              "234567"
            ]
          },
          "metadata": {
            "tags": []
          },
          "execution_count": 57
        }
      ]
    },
    {
      "cell_type": "markdown",
      "metadata": {
        "id": "g01_zni9O5bN"
      },
      "source": [
        "\n",
        "\n",
        "---\n",
        "\n"
      ]
    },
    {
      "cell_type": "markdown",
      "metadata": {
        "id": "7p6fHxEiO2nc"
      },
      "source": [
        "# 2. 신규 아이디 추천"
      ]
    },
    {
      "cell_type": "markdown",
      "metadata": {
        "id": "LlNLSbw6r-8m"
      },
      "source": [
        "**조건**"
      ]
    },
    {
      "cell_type": "markdown",
      "metadata": {
        "id": "UYGmxlwnS6n4"
      },
      "source": [
        "1단계 new_id의 모든 대문자를 대응되는 소문자로 치환합니다.\n",
        "\n",
        "2단계 new_id에서 알파벳 소문자, 숫자, 빼기(-), 밑줄(_), 마침표(.)를 제외한 모든 문자를 제거합니다.\n",
        "\n",
        "3단계 new_id에서 마침표(.)가 2번 이상 연속된 부분을 하나의 마침표(.)로 치환합니다.\n",
        "\n",
        "4단계 new_id에서 마침표(.)가 처음이나 끝에 위치한다면 제거합니다.\n",
        "\n",
        "5단계 new_id가 빈 문자열이라면, new_id에 \"a\"를 대입합니다.\n",
        "\n",
        "6단계 new_id의 길이가 16자 이상이면, new_id의 첫 15개의 문자를 제외한 나머지 문자들을 모두 제거합니다.\n",
        "\n",
        "만약 제거 후 마침표(.)가 new_id의 끝에 위치한다면 끝에 위치한 마침표(.) 문자를 제거합니다.\n",
        "\n",
        "7단계 new_id의 길이가 2자 이하라면, new_id의 마지막 문자를 new_id의 길이가 3이 될 때까지 반복해서 끝에 붙입니다."
      ]
    },
    {
      "cell_type": "code",
      "metadata": {
        "colab": {
          "base_uri": "https://localhost:8080/",
          "height": 35
        },
        "id": "6carZWtHO5Kr",
        "outputId": "caeeae64-b6df-407b-ace7-adc9ae947c4c"
      },
      "source": [
        "def solution(new_id):\n",
        "  answer = ''\n",
        "  \n",
        "  # 1단계 : 대문자 -> 소문자\n",
        "  for i in new_id:\n",
        "    new_id = new_id.lower()\n",
        "  \n",
        "  # 2단계 : 소문자, 숫자, -, _, . 제외 모든 문자 제거\n",
        "  for i in new_id:\n",
        "    if i.isalpha() or i.isdigit() or i in [\"-\", \"_\", \".\"]:\n",
        "      answer += i\n",
        "  \n",
        "  # 3단계 : .. -> . 치환\n",
        "  for i in answer:\n",
        "    answer = answer.replace(\"..\", \".\")\n",
        "  \n",
        "  # 4단계 : 처음이나 끝 마침표 제거\n",
        "  if answer[0] == \".\":\n",
        "    answer = answer[1:] if len(answer) > 1 else \".\"\n",
        "  if answer[-1] == \".\":\n",
        "    answer = answer[:-1]\n",
        "\n",
        "  # 5단계 : new_id = 빈 문자열이면 new_id = a (대입)\n",
        "  if answer == '':\n",
        "    answer = \"a\"\n",
        "\n",
        "  # 6단계 : 길이 >= 16자 이면 첫 15개 제외 모두 제거\n",
        "  if len(answer) > 15:\n",
        "    answer = answer[:15]\n",
        "    if answer[-1] == \".\":\n",
        "      answer = answer[:-1]\n",
        "\n",
        "  # 7단계 : 길이 <= 2자 이면 마지막 문자를 길이 == 3일때까지 반복, 붙임\n",
        "  while len(answer) < 3:\n",
        "    answer += answer[-1]\n",
        "\n",
        "  return answer\n",
        "\n",
        "solution(\"...!@BaT#*..y.abcdefghijklm\")\n",
        "solution(\"=.=\") # string index out of range 해결"
      ],
      "execution_count": null,
      "outputs": [
        {
          "output_type": "execute_result",
          "data": {
            "application/vnd.google.colaboratory.intrinsic+json": {
              "type": "string"
            },
            "text/plain": [
              "'aaa'"
            ]
          },
          "metadata": {
            "tags": []
          },
          "execution_count": 40
        }
      ]
    },
    {
      "cell_type": "markdown",
      "metadata": {
        "id": "DoTmlTsen01b"
      },
      "source": [
        "- isalpha() : 문자열이 문자로만 구성되었는지 확인 후 True, False로 리턴\n",
        "\n",
        "  공백, \" : \", 숫자로 된 문자열은 안됨\n",
        "\n",
        "\n",
        "- isdigit() : 문자열이 숫자인지 확인 후 True, False로 리턴\n",
        "\n",
        "  digit : 숫자처럼 생긴 문자 (거듭제곱, 특수문자 포함)\n",
        "\n",
        "\n",
        "- isdecimal() : 문자열이 0 ~ 9까지의 수로 이루어진 것인지 확인\n",
        "\n",
        "\n",
        "- isnumeric() : 수로 볼 수 있는 것인 경우 True 반환\n",
        "  ex) 1/2 : True\n"
      ]
    },
    {
      "cell_type": "markdown",
      "metadata": {
        "id": "kWhdp_HHIrQl"
      },
      "source": [
        "'str' object doesn't support item deletion"
      ]
    },
    {
      "cell_type": "markdown",
      "metadata": {
        "id": "WtOsX0edJ_nh"
      },
      "source": [
        "정규표현식??"
      ]
    },
    {
      "cell_type": "markdown",
      "metadata": {
        "id": "OM9usMqEBpCO"
      },
      "source": [
        "\n",
        "\n",
        "---\n",
        "\n"
      ]
    },
    {
      "cell_type": "markdown",
      "metadata": {
        "id": "DSLh5XRrAhTv"
      },
      "source": [
        "# 3. 주식가격"
      ]
    },
    {
      "cell_type": "markdown",
      "metadata": {
        "id": "Pc0Rw2mWBMy8"
      },
      "source": [
        "초 단위로 기록된 주식 가격이 담긴 배열 prices\n",
        "\n",
        "- prices = [1, 2, 3, 2, 3]\n",
        "\n",
        "\n",
        "가격이 떨어지지 않은 기간 return\n",
        "\n",
        "- return = [4, 3, 1, 1, 0]"
      ]
    },
    {
      "cell_type": "markdown",
      "metadata": {
        "id": "Y9nfm3g6KrT6"
      },
      "source": [
        "처음 price를 스택에 쌓고 다음 price가 초기값보다 크면 push / 작으면 pop"
      ]
    },
    {
      "cell_type": "code",
      "metadata": {
        "colab": {
          "base_uri": "https://localhost:8080/"
        },
        "id": "Ry4NzrecA6El",
        "outputId": "0c7cf331-1949-4a9e-fabb-15939df47663"
      },
      "source": [
        "def solution(prices): # 스택 사용\n",
        "  stack = [0] # index out of range 오류 막기\n",
        "  answer = []\n",
        "  for i in range(len(prices)):\n",
        "    answer.append(len(prices) - i - 1)\n",
        "  \n",
        "  for i in range(1, len(prices)):\n",
        "    while stack:\n",
        "      index = stack[-1] # 가장 마지막 값 / 다음으로 입력되는 값 비교\n",
        "      if prices[index] > prices[i]:\n",
        "        answer[index] = i - index # 해당 index까지 초를 센 후\n",
        "        stack.pop() # 초 그만세기\n",
        "      else: break # 가격이 증가하고 있으니까\n",
        "    stack.append(i) # 계속 초 세기\n",
        "  \n",
        "  return answer\n",
        "\n",
        "solution([1, 2, 3, 2, 3])"
      ],
      "execution_count": null,
      "outputs": [
        {
          "output_type": "execute_result",
          "data": {
            "text/plain": [
              "[4, 3, 1, 1, 0]"
            ]
          },
          "metadata": {
            "tags": []
          },
          "execution_count": 3
        }
      ]
    },
    {
      "cell_type": "markdown",
      "metadata": {
        "id": "cu7lf00mB-Sj"
      },
      "source": [
        "**스택** (v)\n",
        "\n",
        "-----> DFS (깊이 우선 탐색) 에 이용됨\n",
        "\n",
        "LIFO (Last Input First Out)"
      ]
    },
    {
      "cell_type": "markdown",
      "metadata": {
        "id": "iWtmqXSXCMC4"
      },
      "source": [
        "**큐**\n",
        "\n",
        "-----> BFS (너비 우선 탐색) 에 이용됨\n",
        "\n",
        "FIFO (First Input First Out)"
      ]
    },
    {
      "cell_type": "markdown",
      "metadata": {
        "id": "uV3WJVZ0GQJu"
      },
      "source": [
        "\n",
        "\n",
        "---\n",
        "\n"
      ]
    },
    {
      "cell_type": "markdown",
      "metadata": {
        "id": "zrqqGuAAPZHN"
      },
      "source": [
        "백준"
      ]
    },
    {
      "cell_type": "markdown",
      "metadata": {
        "id": "qxfPjiECPZ8r"
      },
      "source": [
        "# 4. 시험감독_13458"
      ]
    },
    {
      "cell_type": "markdown",
      "metadata": {
        "id": "2MYvjzjkJH5N"
      },
      "source": [
        "총감독 + 부감독\n",
        "\n",
        "감독 수의 최솟값\n",
        "\n",
        "이때, 총감독은 최소 1명 필요함"
      ]
    },
    {
      "cell_type": "code",
      "metadata": {
        "id": "goBCaUMzPbfq",
        "colab": {
          "base_uri": "https://localhost:8080/",
          "height": 244
        },
        "outputId": "4c611a0c-2977-40ca-9da0-b6cecd53ee29"
      },
      "source": [
        "# 시험장의 개수 N\n",
        "n = input(\"N : \")\n",
        "\n",
        "# 응시자의 수 A\n",
        "a = input(\"A : \")\n",
        "\n",
        "# 총감독관 B명, 부감독관 C명\n",
        "bc = input(\"B C : \", sep=\"\")"
      ],
      "execution_count": null,
      "outputs": [
        {
          "output_type": "stream",
          "text": [
            "N : 1\n",
            "A : 1\n"
          ],
          "name": "stdout"
        },
        {
          "output_type": "error",
          "ename": "TypeError",
          "evalue": "ignored",
          "traceback": [
            "\u001b[0;31m---------------------------------------------------------------------------\u001b[0m",
            "\u001b[0;31mTypeError\u001b[0m                                 Traceback (most recent call last)",
            "\u001b[0;32m<ipython-input-6-c60f7845fae4>\u001b[0m in \u001b[0;36m<module>\u001b[0;34m()\u001b[0m\n\u001b[1;32m      6\u001b[0m \u001b[0;34m\u001b[0m\u001b[0m\n\u001b[1;32m      7\u001b[0m \u001b[0;31m# 총감독관 B명, 부감독관 C명\u001b[0m\u001b[0;34m\u001b[0m\u001b[0;34m\u001b[0m\u001b[0;34m\u001b[0m\u001b[0m\n\u001b[0;32m----> 8\u001b[0;31m \u001b[0mbc\u001b[0m \u001b[0;34m=\u001b[0m \u001b[0minput\u001b[0m\u001b[0;34m(\u001b[0m\u001b[0;34m\"B C : \"\u001b[0m\u001b[0;34m,\u001b[0m \u001b[0msep\u001b[0m\u001b[0;34m=\u001b[0m\u001b[0;34m\"\"\u001b[0m\u001b[0;34m)\u001b[0m\u001b[0;34m\u001b[0m\u001b[0;34m\u001b[0m\u001b[0m\n\u001b[0m",
            "\u001b[0;31mTypeError\u001b[0m: raw_input() got an unexpected keyword argument 'sep'"
          ]
        }
      ]
    },
    {
      "cell_type": "code",
      "metadata": {
        "id": "5sPL3Jo-V_On"
      },
      "source": [
        "many = input() # 시험장수\n",
        "temp = input().split(' ')#각 시험장 응시자 수\n",
        "temp2 = input().split(' ')\n",
        "B = int(temp2[0])\n",
        "C = int(temp2[1])\n",
        "sum = 0#한반에 필요한 감독수\n",
        "\n",
        "for member in temp:\n",
        "    if B >= int(member):\n",
        "        sum+=1\n",
        "    elif (int(member) - B)%C==0:#총감독원은 무조건 1명\n",
        "        sum += (int(member)-B)//C + 1    #총감독원 1명포함하려고 1더함\n",
        "    else :\n",
        "        sum += (int(member)-B)//C + 2 #총감독원 1명과 나머지 커버할 부감독원포함\n",
        "print(sum)"
      ],
      "execution_count": null,
      "outputs": []
    },
    {
      "cell_type": "markdown",
      "metadata": {
        "id": "A66Ciq4lPcI6"
      },
      "source": [
        "\n",
        "\n",
        "---\n",
        "\n"
      ]
    },
    {
      "cell_type": "markdown",
      "metadata": {
        "id": "suK1Zjv9Pc1y"
      },
      "source": [
        "# 5. 체스판 다시 칠하기_1018"
      ]
    },
    {
      "cell_type": "code",
      "metadata": {
        "id": "2q1MXgZ8PtWP",
        "colab": {
          "base_uri": "https://localhost:8080/",
          "height": 558
        },
        "outputId": "90d5506f-967c-44a2-99e3-19b81c233e68"
      },
      "source": [
        "# 입력받기\n",
        "N, M = input().split()\n",
        "board = input().split('\\n')\n",
        "\n"
      ],
      "execution_count": null,
      "outputs": [
        {
          "output_type": "error",
          "ename": "KeyboardInterrupt",
          "evalue": "ignored",
          "traceback": [
            "\u001b[0;31m---------------------------------------------------------------------------\u001b[0m",
            "\u001b[0;31mKeyboardInterrupt\u001b[0m                         Traceback (most recent call last)",
            "\u001b[0;32m/usr/local/lib/python3.7/dist-packages/ipykernel/kernelbase.py\u001b[0m in \u001b[0;36m_input_request\u001b[0;34m(self, prompt, ident, parent, password)\u001b[0m\n\u001b[1;32m    728\u001b[0m             \u001b[0;32mtry\u001b[0m\u001b[0;34m:\u001b[0m\u001b[0;34m\u001b[0m\u001b[0;34m\u001b[0m\u001b[0m\n\u001b[0;32m--> 729\u001b[0;31m                 \u001b[0mident\u001b[0m\u001b[0;34m,\u001b[0m \u001b[0mreply\u001b[0m \u001b[0;34m=\u001b[0m \u001b[0mself\u001b[0m\u001b[0;34m.\u001b[0m\u001b[0msession\u001b[0m\u001b[0;34m.\u001b[0m\u001b[0mrecv\u001b[0m\u001b[0;34m(\u001b[0m\u001b[0mself\u001b[0m\u001b[0;34m.\u001b[0m\u001b[0mstdin_socket\u001b[0m\u001b[0;34m,\u001b[0m \u001b[0;36m0\u001b[0m\u001b[0;34m)\u001b[0m\u001b[0;34m\u001b[0m\u001b[0;34m\u001b[0m\u001b[0m\n\u001b[0m\u001b[1;32m    730\u001b[0m             \u001b[0;32mexcept\u001b[0m \u001b[0mException\u001b[0m\u001b[0;34m:\u001b[0m\u001b[0;34m\u001b[0m\u001b[0;34m\u001b[0m\u001b[0m\n",
            "\u001b[0;32m/usr/local/lib/python3.7/dist-packages/jupyter_client/session.py\u001b[0m in \u001b[0;36mrecv\u001b[0;34m(self, socket, mode, content, copy)\u001b[0m\n\u001b[1;32m    802\u001b[0m         \u001b[0;32mtry\u001b[0m\u001b[0;34m:\u001b[0m\u001b[0;34m\u001b[0m\u001b[0;34m\u001b[0m\u001b[0m\n\u001b[0;32m--> 803\u001b[0;31m             \u001b[0mmsg_list\u001b[0m \u001b[0;34m=\u001b[0m \u001b[0msocket\u001b[0m\u001b[0;34m.\u001b[0m\u001b[0mrecv_multipart\u001b[0m\u001b[0;34m(\u001b[0m\u001b[0mmode\u001b[0m\u001b[0;34m,\u001b[0m \u001b[0mcopy\u001b[0m\u001b[0;34m=\u001b[0m\u001b[0mcopy\u001b[0m\u001b[0;34m)\u001b[0m\u001b[0;34m\u001b[0m\u001b[0;34m\u001b[0m\u001b[0m\n\u001b[0m\u001b[1;32m    804\u001b[0m         \u001b[0;32mexcept\u001b[0m \u001b[0mzmq\u001b[0m\u001b[0;34m.\u001b[0m\u001b[0mZMQError\u001b[0m \u001b[0;32mas\u001b[0m \u001b[0me\u001b[0m\u001b[0;34m:\u001b[0m\u001b[0;34m\u001b[0m\u001b[0;34m\u001b[0m\u001b[0m\n",
            "\u001b[0;32m/usr/local/lib/python3.7/dist-packages/zmq/sugar/socket.py\u001b[0m in \u001b[0;36mrecv_multipart\u001b[0;34m(self, flags, copy, track)\u001b[0m\n\u001b[1;32m    582\u001b[0m         \"\"\"\n\u001b[0;32m--> 583\u001b[0;31m         \u001b[0mparts\u001b[0m \u001b[0;34m=\u001b[0m \u001b[0;34m[\u001b[0m\u001b[0mself\u001b[0m\u001b[0;34m.\u001b[0m\u001b[0mrecv\u001b[0m\u001b[0;34m(\u001b[0m\u001b[0mflags\u001b[0m\u001b[0;34m,\u001b[0m \u001b[0mcopy\u001b[0m\u001b[0;34m=\u001b[0m\u001b[0mcopy\u001b[0m\u001b[0;34m,\u001b[0m \u001b[0mtrack\u001b[0m\u001b[0;34m=\u001b[0m\u001b[0mtrack\u001b[0m\u001b[0;34m)\u001b[0m\u001b[0;34m]\u001b[0m\u001b[0;34m\u001b[0m\u001b[0;34m\u001b[0m\u001b[0m\n\u001b[0m\u001b[1;32m    584\u001b[0m         \u001b[0;31m# have first part already, only loop while more to receive\u001b[0m\u001b[0;34m\u001b[0m\u001b[0;34m\u001b[0m\u001b[0;34m\u001b[0m\u001b[0m\n",
            "\u001b[0;32mzmq/backend/cython/socket.pyx\u001b[0m in \u001b[0;36mzmq.backend.cython.socket.Socket.recv\u001b[0;34m()\u001b[0m\n",
            "\u001b[0;32mzmq/backend/cython/socket.pyx\u001b[0m in \u001b[0;36mzmq.backend.cython.socket.Socket.recv\u001b[0;34m()\u001b[0m\n",
            "\u001b[0;32mzmq/backend/cython/socket.pyx\u001b[0m in \u001b[0;36mzmq.backend.cython.socket._recv_copy\u001b[0;34m()\u001b[0m\n",
            "\u001b[0;32m/usr/local/lib/python3.7/dist-packages/zmq/backend/cython/checkrc.pxd\u001b[0m in \u001b[0;36mzmq.backend.cython.checkrc._check_rc\u001b[0;34m()\u001b[0m\n",
            "\u001b[0;31mKeyboardInterrupt\u001b[0m: ",
            "\nDuring handling of the above exception, another exception occurred:\n",
            "\u001b[0;31mKeyboardInterrupt\u001b[0m                         Traceback (most recent call last)",
            "\u001b[0;32m<ipython-input-3-794ab4539137>\u001b[0m in \u001b[0;36m<module>\u001b[0;34m()\u001b[0m\n\u001b[1;32m      1\u001b[0m \u001b[0;31m# 입력받기\u001b[0m\u001b[0;34m\u001b[0m\u001b[0;34m\u001b[0m\u001b[0;34m\u001b[0m\u001b[0m\n\u001b[0;32m----> 2\u001b[0;31m \u001b[0mN\u001b[0m\u001b[0;34m,\u001b[0m \u001b[0mM\u001b[0m \u001b[0;34m=\u001b[0m \u001b[0minput\u001b[0m\u001b[0;34m(\u001b[0m\u001b[0;34m)\u001b[0m\u001b[0;34m.\u001b[0m\u001b[0msplit\u001b[0m\u001b[0;34m(\u001b[0m\u001b[0;34m)\u001b[0m\u001b[0;34m\u001b[0m\u001b[0;34m\u001b[0m\u001b[0m\n\u001b[0m\u001b[1;32m      3\u001b[0m \u001b[0mboard\u001b[0m \u001b[0;34m=\u001b[0m \u001b[0minput\u001b[0m\u001b[0;34m(\u001b[0m\u001b[0;34m)\u001b[0m\u001b[0;34m.\u001b[0m\u001b[0msplit\u001b[0m\u001b[0;34m(\u001b[0m\u001b[0;34m'\\n'\u001b[0m\u001b[0;34m)\u001b[0m\u001b[0;34m\u001b[0m\u001b[0;34m\u001b[0m\u001b[0m\n\u001b[1;32m      4\u001b[0m \u001b[0;34m\u001b[0m\u001b[0m\n",
            "\u001b[0;32m/usr/local/lib/python3.7/dist-packages/ipykernel/kernelbase.py\u001b[0m in \u001b[0;36mraw_input\u001b[0;34m(self, prompt)\u001b[0m\n\u001b[1;32m    702\u001b[0m             \u001b[0mself\u001b[0m\u001b[0;34m.\u001b[0m\u001b[0m_parent_ident\u001b[0m\u001b[0;34m,\u001b[0m\u001b[0;34m\u001b[0m\u001b[0;34m\u001b[0m\u001b[0m\n\u001b[1;32m    703\u001b[0m             \u001b[0mself\u001b[0m\u001b[0;34m.\u001b[0m\u001b[0m_parent_header\u001b[0m\u001b[0;34m,\u001b[0m\u001b[0;34m\u001b[0m\u001b[0;34m\u001b[0m\u001b[0m\n\u001b[0;32m--> 704\u001b[0;31m             \u001b[0mpassword\u001b[0m\u001b[0;34m=\u001b[0m\u001b[0;32mFalse\u001b[0m\u001b[0;34m,\u001b[0m\u001b[0;34m\u001b[0m\u001b[0;34m\u001b[0m\u001b[0m\n\u001b[0m\u001b[1;32m    705\u001b[0m         )\n\u001b[1;32m    706\u001b[0m \u001b[0;34m\u001b[0m\u001b[0m\n",
            "\u001b[0;32m/usr/local/lib/python3.7/dist-packages/ipykernel/kernelbase.py\u001b[0m in \u001b[0;36m_input_request\u001b[0;34m(self, prompt, ident, parent, password)\u001b[0m\n\u001b[1;32m    732\u001b[0m             \u001b[0;32mexcept\u001b[0m \u001b[0mKeyboardInterrupt\u001b[0m\u001b[0;34m:\u001b[0m\u001b[0;34m\u001b[0m\u001b[0;34m\u001b[0m\u001b[0m\n\u001b[1;32m    733\u001b[0m                 \u001b[0;31m# re-raise KeyboardInterrupt, to truncate traceback\u001b[0m\u001b[0;34m\u001b[0m\u001b[0;34m\u001b[0m\u001b[0;34m\u001b[0m\u001b[0m\n\u001b[0;32m--> 734\u001b[0;31m                 \u001b[0;32mraise\u001b[0m \u001b[0mKeyboardInterrupt\u001b[0m\u001b[0;34m\u001b[0m\u001b[0;34m\u001b[0m\u001b[0m\n\u001b[0m\u001b[1;32m    735\u001b[0m             \u001b[0;32melse\u001b[0m\u001b[0;34m:\u001b[0m\u001b[0;34m\u001b[0m\u001b[0;34m\u001b[0m\u001b[0m\n\u001b[1;32m    736\u001b[0m                 \u001b[0;32mbreak\u001b[0m\u001b[0;34m\u001b[0m\u001b[0;34m\u001b[0m\u001b[0m\n",
            "\u001b[0;31mKeyboardInterrupt\u001b[0m: "
          ]
        }
      ]
    },
    {
      "cell_type": "code",
      "metadata": {
        "id": "G7zFJgYwWzJB"
      },
      "source": [
        "N, M = map(int, input().split())\n",
        "original = []\n",
        "count = []\n",
        "\n",
        "for _ in range(N):\n",
        "    original.append(input())\n",
        "\n",
        "for a in range(N-7):\n",
        "    for b in range(M-7):\n",
        "        index1 = 0#W스타트가 아닐경우 개수\n",
        "        index2 = 0#B스타트가 아닐 경우 개수\n",
        "        for i in range(a, a+8):\n",
        "            for j in range(b, b+8):\n",
        "                if (i+j) % 2 == 0:\n",
        "                    if original[i][j] != 'W':\n",
        "                        index1 += 1\n",
        "                    if original[i][j] != 'B':\n",
        "                        index2 += 1\n",
        "                else:\n",
        "                    if original[i][j] != 'B':\n",
        "                        index1 += 1\n",
        "                    if original[i][j] != 'W':\n",
        "                        index2 += 1\n",
        "        count.append(min(index1, index2))\n",
        "\n",
        "print(min(count))"
      ],
      "execution_count": null,
      "outputs": []
    },
    {
      "cell_type": "markdown",
      "metadata": {
        "id": "blaEKu4NPv0k"
      },
      "source": [
        "\n",
        "\n",
        "---\n",
        "\n"
      ]
    }
  ]
}