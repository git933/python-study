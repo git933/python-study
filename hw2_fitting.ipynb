{
  "nbformat": 4,
  "nbformat_minor": 0,
  "metadata": {
    "colab": {
      "name": "hw2_fitting.ipynb",
      "provenance": [],
      "collapsed_sections": [],
      "mount_file_id": "1H8y-Oaodwbw6d9q5N2j4pnQ85hMLnQUE",
      "authorship_tag": "ABX9TyMaEcMPC5WpVKxOkpzq/5Ay",
      "include_colab_link": true
    },
    "kernelspec": {
      "name": "python3",
      "display_name": "Python 3"
    },
    "language_info": {
      "name": "python"
    }
  },
  "cells": [
    {
      "cell_type": "markdown",
      "metadata": {
        "id": "view-in-github",
        "colab_type": "text"
      },
      "source": [
        "<a href=\"https://colab.research.google.com/github/git933/python_study-pm7-10/blob/main/hw2_fitting.ipynb\" target=\"_parent\"><img src=\"https://colab.research.google.com/assets/colab-badge.svg\" alt=\"Open In Colab\"/></a>"
      ]
    },
    {
      "cell_type": "code",
      "metadata": {
        "colab": {
          "base_uri": "https://localhost:8080/",
          "height": 303
        },
        "id": "CauxbWg2SgLi",
        "outputId": "05ceca5b-f712-4fb5-8206-84d3a1585d02"
      },
      "source": [
        "from numpy import arange\n",
        "from scipy.optimize import curve_fit\n",
        "from matplotlib import pyplot\n",
        "import random\n",
        "\n",
        "a = random.randint(1, 6)\n",
        "\n",
        "def objective(x, a, b, c):\n",
        "  return a * x ** 2 + b * x + c\n",
        "\n",
        "\n",
        "\n",
        "# x,y 값 지정\n",
        "xy = [[-2.9,35.4],[-2.1,19.7],[-0.9,5.7],[1.1,2.1],[0.1,1.2],[1.9,8.7],[3.1,25.7],[4.0,41.5]]\n",
        "\n",
        "# x,y 값 6개 랜덤 추출\n",
        "xy_1 = random.sample(xy, 6)\n",
        "\n",
        "# x,y 따로 추출하여 리스트 생성\n",
        "x= [xy_1[0][0],xy_1[1][0],xy_1[2][0],xy_1[3][0],xy_1[4][0],xy_1[5][0]]\n",
        "y= [xy_1[0][1],xy_1[1][1],xy_1[2][1],xy_1[3][1],xy_1[4][1],xy_1[5][1]]\n",
        "\n",
        "popt, _ = curve_fit(objective, x, y)\n",
        "\n",
        "# summarize the parameter values\n",
        "a, b, c = popt\n",
        "print('y = %.1f * x^2 + %.1f * x + %.1f' % (a, b, c))\n",
        "\n",
        "pyplot.scatter(x, y)\n",
        "\n",
        "# define a sequence of inputs \n",
        "x_line1 = arange(-3, 5, 1)\n",
        "\n",
        "# calculate the output for the range\n",
        "y_line1 = objective(x_line1, a, b, c)\n",
        "\n",
        "\n",
        "\n",
        "# x,y 값 지정\n",
        "xy1 = [[-2.9,35.4],[-2.1,19.7],[-0.9,5.7],[1.1,2.1],[0.1,1.2],[1.9,8.7],[3.1,25.7],[4.0,41.5]]\n",
        "\n",
        "# x,y 값 6개 랜덤 추출\n",
        "xy_2 = random.sample(xy1, 6)\n",
        "\n",
        "# x,y 따로 추출하여 리스트 생성\n",
        "x1 = [xy_2[0][0],xy_2[1][0],xy_2[2][0],xy_2[3][0],xy_2[4][0],xy_2[5][0]]\n",
        "y1 = [xy_2[0][1],xy_2[1][1],xy_2[2][1],xy_2[3][1],xy_2[4][1],xy_2[5][1]]\n",
        "\n",
        "popt, _ = curve_fit(objective, x1, y1)\n",
        "\n",
        "# summarize the parameter values\n",
        "a, b, c = popt\n",
        "print('y = %.1f * x^2 + %.1f * x + %.1f' % (a, b, c))\n",
        "\n",
        "pyplot.scatter(x1, y1)\n",
        "\n",
        "# define a sequence of inputs \n",
        "x_line2 = arange(-3, 5, 1)\n",
        "\n",
        "# calculate the output for the range\n",
        "y_line2 = objective(x_line2, a, b, c)\n",
        "\n",
        "pyplot.plot(x_line1, y_line1, '-', color='red')\n",
        "pyplot.plot(x_line2, y_line2, '-', color='blue')\n",
        "pyplot.show()"
      ],
      "execution_count": 4,
      "outputs": [
        {
          "output_type": "stream",
          "text": [
            "y = 3.2 * x^2 + -2.4 * x + 1.4\n",
            "y = 3.1 * x^2 + -2.5 * x + 1.4\n"
          ],
          "name": "stdout"
        },
        {
          "output_type": "display_data",
          "data": {
            "image/png": "[encoded data removed]",
            "text/plain": [
              "<Figure size 432x288 with 1 Axes>"
            ]
          },
          "metadata": {
            "tags": [],
            "needs_background": "light"
          }
        }
      ]
    }
  ]
}