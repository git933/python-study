{
  "nbformat": 4,
  "nbformat_minor": 0,
  "metadata": {
    "colab": {
      "name": "python 300제_101~125.ipynb",
      "provenance": [],
      "collapsed_sections": [],
      "authorship_tag": "ABX9TyOPFVo+4MH4K2wqEZGxo88u",
      "include_colab_link": true
    },
    "kernelspec": {
      "name": "python3",
      "display_name": "Python 3"
    },
    "language_info": {
      "name": "python"
    }
  },
  "cells": [
    {
      "cell_type": "markdown",
      "metadata": {
        "id": "view-in-github",
        "colab_type": "text"
      },
      "source": [
        "<a href=\"https://colab.research.google.com/github/git933/python_study-pm7-10/blob/main/python_300%EC%A0%9C_101~125.ipynb\" target=\"_parent\"><img src=\"https://colab.research.google.com/assets/colab-badge.svg\" alt=\"Open In Colab\"/></a>"
      ]
    },
    {
      "cell_type": "markdown",
      "metadata": {
        "id": "j56nbMhg70Sr"
      },
      "source": [
        "101 : bool 타입은 True / False 가짐"
      ]
    },
    {
      "cell_type": "markdown",
      "metadata": {
        "id": "YXood87u74k5"
      },
      "source": [
        "102"
      ]
    },
    {
      "cell_type": "code",
      "metadata": {
        "colab": {
          "base_uri": "https://localhost:8080/"
        },
        "id": "1GP6t5GB7wGt",
        "outputId": "f1ece8c0-a30e-4c4d-86ee-a3e04ad8d39e"
      },
      "source": [
        "print(3 == 5)"
      ],
      "execution_count": null,
      "outputs": [
        {
          "output_type": "stream",
          "text": [
            "False\n"
          ],
          "name": "stdout"
        }
      ]
    },
    {
      "cell_type": "markdown",
      "metadata": {
        "id": "gpRahY_D8DLK"
      },
      "source": [
        "103"
      ]
    },
    {
      "cell_type": "code",
      "metadata": {
        "colab": {
          "base_uri": "https://localhost:8080/"
        },
        "id": "FVAUgYRJ8DuN",
        "outputId": "a46f40e7-ade3-43dc-ade4-d0d4382019b4"
      },
      "source": [
        "print(3 < 5)"
      ],
      "execution_count": null,
      "outputs": [
        {
          "output_type": "stream",
          "text": [
            "True\n"
          ],
          "name": "stdout"
        }
      ]
    },
    {
      "cell_type": "markdown",
      "metadata": {
        "id": "Js2Lzbvh8FgO"
      },
      "source": [
        "104"
      ]
    },
    {
      "cell_type": "code",
      "metadata": {
        "colab": {
          "base_uri": "https://localhost:8080/"
        },
        "id": "kSI7jfEr8GQR",
        "outputId": "ffdda848-2bb1-4fdb-d142-47438024eb65"
      },
      "source": [
        "x = 4\n",
        "print(1 < x < 5)"
      ],
      "execution_count": null,
      "outputs": [
        {
          "output_type": "stream",
          "text": [
            "True\n"
          ],
          "name": "stdout"
        }
      ]
    },
    {
      "cell_type": "markdown",
      "metadata": {
        "id": "GvvJuODn8K6K"
      },
      "source": [
        "105"
      ]
    },
    {
      "cell_type": "code",
      "metadata": {
        "colab": {
          "base_uri": "https://localhost:8080/"
        },
        "id": "FO3Yx40B8LrU",
        "outputId": "abb9d9e4-b340-4298-bef2-29c64baa8237"
      },
      "source": [
        "print((3 == 3) and (4 != 3))"
      ],
      "execution_count": null,
      "outputs": [
        {
          "output_type": "stream",
          "text": [
            "True\n"
          ],
          "name": "stdout"
        }
      ]
    },
    {
      "cell_type": "markdown",
      "metadata": {
        "id": "Upm7_qJ88Rw6"
      },
      "source": [
        "106"
      ]
    },
    {
      "cell_type": "code",
      "metadata": {
        "colab": {
          "base_uri": "https://localhost:8080/",
          "height": 140
        },
        "id": "8_I0ZsB88Sm_",
        "outputId": "86b78aba-ea93-435b-a700-a848a58f0b34"
      },
      "source": [
        "print(3 => 4)"
      ],
      "execution_count": null,
      "outputs": [
        {
          "output_type": "error",
          "ename": "SyntaxError",
          "evalue": "ignored",
          "traceback": [
            "\u001b[0;36m  File \u001b[0;32m\"<ipython-input-5-73d1778316a7>\"\u001b[0;36m, line \u001b[0;32m1\u001b[0m\n\u001b[0;31m    print(3 => 4)\u001b[0m\n\u001b[0m             ^\u001b[0m\n\u001b[0;31mSyntaxError\u001b[0m\u001b[0;31m:\u001b[0m invalid syntax\n"
          ]
        }
      ]
    },
    {
      "cell_type": "markdown",
      "metadata": {
        "id": "uEiCjnzl8VLs"
      },
      "source": [
        "107"
      ]
    },
    {
      "cell_type": "code",
      "metadata": {
        "id": "Hyos-Cm68V5x"
      },
      "source": [
        "if 4 < 3:\n",
        "  print(\"Hello World\")"
      ],
      "execution_count": null,
      "outputs": []
    },
    {
      "cell_type": "markdown",
      "metadata": {
        "id": "LY6GL3Gx8ZQa"
      },
      "source": [
        "108"
      ]
    },
    {
      "cell_type": "code",
      "metadata": {
        "colab": {
          "base_uri": "https://localhost:8080/"
        },
        "id": "TnUveKBg8Z64",
        "outputId": "ec0f3060-e441-4b03-e330-4aa8fd60887d"
      },
      "source": [
        "if 4 < 3:\n",
        "  print(\"Hello World.\")\n",
        "else:\n",
        "  print(\"Hi, there.\")"
      ],
      "execution_count": null,
      "outputs": [
        {
          "output_type": "stream",
          "text": [
            "Hi, there.\n"
          ],
          "name": "stdout"
        }
      ]
    },
    {
      "cell_type": "markdown",
      "metadata": {
        "id": "tdWFFaAa8fen"
      },
      "source": [
        "109"
      ]
    },
    {
      "cell_type": "code",
      "metadata": {
        "colab": {
          "base_uri": "https://localhost:8080/"
        },
        "id": "Ffsiq2U28gNJ",
        "outputId": "d07d9747-4960-4406-cc64-f45d9ca32475"
      },
      "source": [
        "if True:\n",
        "  print(\"1\")\n",
        "  print(\"2\")\n",
        "else:\n",
        "  print(\"3\")\n",
        "print(\"4\")"
      ],
      "execution_count": null,
      "outputs": [
        {
          "output_type": "stream",
          "text": [
            "1\n",
            "2\n",
            "4\n"
          ],
          "name": "stdout"
        }
      ]
    },
    {
      "cell_type": "markdown",
      "metadata": {
        "id": "QGgk02gl8plQ"
      },
      "source": [
        "110"
      ]
    },
    {
      "cell_type": "code",
      "metadata": {
        "colab": {
          "base_uri": "https://localhost:8080/"
        },
        "id": "p84-LKzB8qhl",
        "outputId": "ff9d3ad7-3aa0-499f-8d86-048d3fe9d37d"
      },
      "source": [
        "if True:\n",
        "  if False:\n",
        "    print(\"1\")\n",
        "    print(\"2\")\n",
        "  else:\n",
        "    print(\"3\")\n",
        "else:\n",
        "  print(\"4\")\n",
        "print(\"5\")"
      ],
      "execution_count": null,
      "outputs": [
        {
          "output_type": "stream",
          "text": [
            "3\n",
            "5\n"
          ],
          "name": "stdout"
        }
      ]
    },
    {
      "cell_type": "markdown",
      "metadata": {
        "id": "kSFBjh5i9MkQ"
      },
      "source": [
        "111"
      ]
    },
    {
      "cell_type": "code",
      "metadata": {
        "colab": {
          "base_uri": "https://localhost:8080/"
        },
        "id": "ewK5xZVh9NLn",
        "outputId": "67ab17a5-326f-4e9e-c15a-6cef471828c1"
      },
      "source": [
        "data = input(\"입력 : \")\n",
        "print(data * 2)"
      ],
      "execution_count": null,
      "outputs": [
        {
          "output_type": "stream",
          "text": [
            "입력 : data\n",
            "datadata\n"
          ],
          "name": "stdout"
        }
      ]
    },
    {
      "cell_type": "markdown",
      "metadata": {
        "id": "G4nuBAsGAewS"
      },
      "source": [
        "112"
      ]
    },
    {
      "cell_type": "code",
      "metadata": {
        "colab": {
          "base_uri": "https://localhost:8080/"
        },
        "id": "0Baownq_AfOu",
        "outputId": "7229e185-7807-4d63-fcc3-956752d3df10"
      },
      "source": [
        "data = input(\"숫자를 입력하세요 : \")\n",
        "print(int(data) + 10)"
      ],
      "execution_count": null,
      "outputs": [
        {
          "output_type": "stream",
          "text": [
            "숫자를 입력하세요 : 30\n",
            "40\n"
          ],
          "name": "stdout"
        }
      ]
    },
    {
      "cell_type": "code",
      "metadata": {
        "colab": {
          "base_uri": "https://localhost:8080/"
        },
        "id": "XWGuPQfGAn4W",
        "outputId": "fb96eee9-884d-4406-9671-bd762f539de2"
      },
      "source": [
        "user = input(\"숫자를 입력하세요 : \")\n",
        "print(10 + int(user))"
      ],
      "execution_count": null,
      "outputs": [
        {
          "output_type": "stream",
          "text": [
            "숫자를 입력하세요 : 30\n",
            "40\n"
          ],
          "name": "stdout"
        }
      ]
    },
    {
      "cell_type": "markdown",
      "metadata": {
        "id": "fATkvpPWAv_K"
      },
      "source": [
        "113"
      ]
    },
    {
      "cell_type": "code",
      "metadata": {
        "colab": {
          "base_uri": "https://localhost:8080/"
        },
        "id": "nWU6P7GXAwkg",
        "outputId": "196e5aec-cfb9-40a0-e571-554710ab03a7"
      },
      "source": [
        "data = input(\"\")\n",
        "if int(data)%2 == 0:\n",
        "  print(\"짝수\")\n",
        "else:\n",
        "  print(\"홀수\")"
      ],
      "execution_count": null,
      "outputs": [
        {
          "output_type": "stream",
          "text": [
            "23\n",
            "홀수\n"
          ],
          "name": "stdout"
        }
      ]
    },
    {
      "cell_type": "markdown",
      "metadata": {
        "id": "6AeyeQqkBQv4"
      },
      "source": [
        "114"
      ]
    },
    {
      "cell_type": "code",
      "metadata": {
        "colab": {
          "base_uri": "https://localhost:8080/"
        },
        "id": "-yYAlD40BTJa",
        "outputId": "288fadb4-1052-4d24-8128-a9f5da20f489"
      },
      "source": [
        "data = input(\"입력값 : \")\n",
        "if (int(data) + 20) > 255:\n",
        "  print(\"출력값 : \", 255)\n",
        "else:\n",
        "  print(\"출력값 : \", int(data) + 20)"
      ],
      "execution_count": null,
      "outputs": [
        {
          "output_type": "stream",
          "text": [
            "입력값 : 240\n",
            "출력값 :  255\n"
          ],
          "name": "stdout"
        }
      ]
    },
    {
      "cell_type": "code",
      "metadata": {
        "colab": {
          "base_uri": "https://localhost:8080/"
        },
        "id": "n_wAfn1DB5yF",
        "outputId": "ba45ffc6-2a4f-4ef5-8c11-65fb1926d203"
      },
      "source": [
        "user = input(\"입력값 : \")\n",
        "num = 20 + int(user)\n",
        "if num > 255:\n",
        "  print(255)\n",
        "else:\n",
        "  print(num)"
      ],
      "execution_count": null,
      "outputs": [
        {
          "output_type": "stream",
          "text": [
            "입력값 : 240\n",
            "255\n"
          ],
          "name": "stdout"
        }
      ]
    },
    {
      "cell_type": "markdown",
      "metadata": {
        "id": "ySoNhJUACHBG"
      },
      "source": [
        "**115**"
      ]
    },
    {
      "cell_type": "code",
      "metadata": {
        "colab": {
          "base_uri": "https://localhost:8080/"
        },
        "id": "ovrobASTCJAx",
        "outputId": "90ad0371-1067-4c88-8760-6a8e41009be9"
      },
      "source": [
        "data = input(\"입력값 : \")\n",
        "num = int(data) - 20\n",
        "if num < 0:\n",
        "  print(\"출력값 : \", 0)\n",
        "elif num > 255:\n",
        "  print(\"출력값 : \", 255)\n",
        "else:\n",
        "  print(num)"
      ],
      "execution_count": null,
      "outputs": [
        {
          "output_type": "stream",
          "text": [
            "입력값 : 290\n",
            "출력값 :  255\n"
          ],
          "name": "stdout"
        }
      ]
    },
    {
      "cell_type": "code",
      "metadata": {
        "colab": {
          "base_uri": "https://localhost:8080/"
        },
        "id": "iXOo1a13E5N6",
        "outputId": "907efb8e-8b0b-41fb-b9c9-32e9610b67a6"
      },
      "source": [
        "user = input(\"입력값 : \")\n",
        "num = int(user) - 20\n",
        "if num > 255:\n",
        "  print(255)\n",
        "elif num < 0:\n",
        "  print(0)\n",
        "else:\n",
        "  print(num)"
      ],
      "execution_count": null,
      "outputs": [
        {
          "output_type": "stream",
          "text": [
            "입력값 : 15\n",
            "0\n"
          ],
          "name": "stdout"
        }
      ]
    },
    {
      "cell_type": "markdown",
      "metadata": {
        "id": "zFP_IigKFDJT"
      },
      "source": [
        "**116**"
      ]
    },
    {
      "cell_type": "code",
      "metadata": {
        "colab": {
          "base_uri": "https://localhost:8080/"
        },
        "id": "uhWDfxwnFD3X",
        "outputId": "4b06600d-1e19-4376-da21-5cb4efae84ae"
      },
      "source": [
        "time = input(\"현재 시간 : \")\n",
        "if time[-2:] == \"00\":\n",
        "  print(\"정각입니다.\")\n",
        "else:\n",
        "  print(\"정각이 아닙니다.\")"
      ],
      "execution_count": null,
      "outputs": [
        {
          "output_type": "stream",
          "text": [
            "현재 시간 : 03:10\n",
            "정각이 아닙니다.\n"
          ],
          "name": "stdout"
        }
      ]
    },
    {
      "cell_type": "markdown",
      "metadata": {
        "id": "lGHWRpLKHjHG"
      },
      "source": [
        "**117**"
      ]
    },
    {
      "cell_type": "code",
      "metadata": {
        "colab": {
          "base_uri": "https://localhost:8080/"
        },
        "id": "Ri48foitHjx-",
        "outputId": "36a12e7f-6026-4e15-e11a-9c5a1b52b3f4"
      },
      "source": [
        "fruit = [\"사과\", \"포도\", \"홍시\"]\n",
        "word = input(\"좋아하는 과일은? \")\n",
        "if word in fruit:\n",
        "  print(\"정답입니다.\")\n",
        "else:\n",
        "  print(\"오답입니다.\")"
      ],
      "execution_count": null,
      "outputs": [
        {
          "output_type": "stream",
          "text": [
            "좋아하는 과일은? 배\n",
            "오답입니다.\n"
          ],
          "name": "stdout"
        }
      ]
    },
    {
      "cell_type": "markdown",
      "metadata": {
        "id": "ZuHYlEufLQCj"
      },
      "source": [
        "118"
      ]
    },
    {
      "cell_type": "code",
      "metadata": {
        "colab": {
          "base_uri": "https://localhost:8080/"
        },
        "id": "FPU74h0sLQ4t",
        "outputId": "ed3a968c-757d-42be-e9a6-d090a6735637"
      },
      "source": [
        "warn_investment_list = [\"Microsoft\", \"Google\", \"Naver\", \"Kakao\", \"SAMSUNG\", \"LG\"]\n",
        "warn = input(\"종목명 : \")\n",
        "if warn in warn_investment_list:\n",
        "  print(\"투자 경고 종목입니다.\")\n",
        "else:\n",
        "  print(\"투자 경고 종목이 아닙니다.\")"
      ],
      "execution_count": null,
      "outputs": [
        {
          "output_type": "stream",
          "text": [
            "종목명 : Microsoft\n",
            "투자 경고 종목입니다.\n"
          ],
          "name": "stdout"
        }
      ]
    },
    {
      "cell_type": "markdown",
      "metadata": {
        "id": "sTrx-ksUNSnp"
      },
      "source": [
        "119"
      ]
    },
    {
      "cell_type": "code",
      "metadata": {
        "colab": {
          "base_uri": "https://localhost:8080/"
        },
        "id": "DLjEeHa0NTnB",
        "outputId": "7595cc25-f8f4-493c-e483-c5a5cbcad36a"
      },
      "source": [
        "fruit = {\"봄\" : \"딸기\", \"여름\" : \"토마토\", \"가을\" : \"사과\"}\n",
        "data = input(\"제가 좋아하는 계절은 : \")\n",
        "if data in fruit:\n",
        "  print(\"정답입니다.\")\n",
        "else:\n",
        "  print(\"오답입니다.\")"
      ],
      "execution_count": null,
      "outputs": [
        {
          "output_type": "stream",
          "text": [
            "제가 좋아하는 계절은 : 봄\n",
            "정답입니다.\n"
          ],
          "name": "stdout"
        }
      ]
    },
    {
      "cell_type": "code",
      "metadata": {
        "colab": {
          "base_uri": "https://localhost:8080/"
        },
        "id": "Z9-eV-2TN-gx",
        "outputId": "01a66e23-2bc7-4f6b-967e-1353addb4356"
      },
      "source": [
        "fruit = {\"봄\" : \"딸기\", \"여름\" : \"토마토\", \"가을\" : \"사과\"}\n",
        "user = input(\"제가 좋아하는 계절은 : \")\n",
        "if user in fruit:\n",
        "  print(\"정답입니다.\")\n",
        "else:\n",
        "  print(\"오답입니다.\")"
      ],
      "execution_count": null,
      "outputs": [
        {
          "output_type": "stream",
          "text": [
            "제가 좋아하는 계절은 : ㄴㄴ\n",
            "오답입니다.\n"
          ],
          "name": "stdout"
        }
      ]
    },
    {
      "cell_type": "markdown",
      "metadata": {
        "id": "AyzWBlubOJ7j"
      },
      "source": [
        "**120**"
      ]
    },
    {
      "cell_type": "code",
      "metadata": {
        "colab": {
          "base_uri": "https://localhost:8080/"
        },
        "id": "9IZATayHOKrg",
        "outputId": "96533d9b-9870-4699-c9e9-b52617c04938"
      },
      "source": [
        "fruit = {\"봄\" : \"딸기\", \"여름\" : \"토마토\", \"가을\" : \"사과\"}\n",
        "user = input(\"제가 좋아하는 과일은 : \")\n",
        "if user in fruit.values():\n",
        "  print(\"정답입니다.\")\n",
        "else:\n",
        "  print(\"오답입니다.\")"
      ],
      "execution_count": null,
      "outputs": [
        {
          "output_type": "stream",
          "text": [
            "제가 좋아하는 과일은 : 귤\n",
            "오답입니다.\n"
          ],
          "name": "stdout"
        }
      ]
    },
    {
      "cell_type": "markdown",
      "metadata": {
        "id": "zGQVg2JBUzoK"
      },
      "source": [
        "\n",
        "\n",
        "---\n",
        "\n"
      ]
    },
    {
      "cell_type": "markdown",
      "metadata": {
        "id": "BnY_GCa2UNSd"
      },
      "source": [
        "121"
      ]
    },
    {
      "cell_type": "code",
      "metadata": {
        "colab": {
          "base_uri": "https://localhost:8080/"
        },
        "id": "0s3Y3VwwSbJF",
        "outputId": "bb7f3027-4491-4c89-bdb8-800aa7e2d9a5"
      },
      "source": [
        "data = input()\n",
        "if data.islower() == True:\n",
        "  print(data.upper())\n",
        "else:\n",
        "  print(data.lower())"
      ],
      "execution_count": null,
      "outputs": [
        {
          "output_type": "stream",
          "text": [
            "a\n",
            "A\n"
          ],
          "name": "stdout"
        }
      ]
    },
    {
      "cell_type": "code",
      "metadata": {
        "id": "2XyfR22vUp7z"
      },
      "source": [
        "user = input(\"\")\n",
        "if user.islower():\n",
        "  print(user.upper())\n",
        "else:\n",
        "  print(user.lower())"
      ],
      "execution_count": null,
      "outputs": []
    },
    {
      "cell_type": "markdown",
      "metadata": {
        "id": "W2xVemA3Uv3z"
      },
      "source": [
        "기본값이 True라서 가능한 것 같음.."
      ]
    },
    {
      "cell_type": "markdown",
      "metadata": {
        "id": "c4oMPgrHUyRr"
      },
      "source": [
        "122"
      ]
    },
    {
      "cell_type": "code",
      "metadata": {
        "colab": {
          "base_uri": "https://localhost:8080/"
        },
        "id": "0tT315CFUy7T",
        "outputId": "f091e28d-1f8e-46a8-d971-05fc0a239c71"
      },
      "source": [
        "score = input(\"score : \")\n",
        "data = int(score)\n",
        "if data >= 81 and data <= 100:\n",
        "  print(\"grade is A\")\n",
        "elif data >= 61 and data <= 80:\n",
        "  print(\"grade is B\")\n",
        "elif data >= 41 and data <= 60:\n",
        "  print(\"grade is C\")\n",
        "elif data >= 21 and data <= 40:\n",
        "  print(\"grade is D\")\n",
        "else :\n",
        "  print(\"grade is E\")"
      ],
      "execution_count": null,
      "outputs": [
        {
          "output_type": "stream",
          "text": [
            "score : 55\n",
            "grade is C\n"
          ],
          "name": "stdout"
        }
      ]
    },
    {
      "cell_type": "code",
      "metadata": {
        "colab": {
          "base_uri": "https://localhost:8080/"
        },
        "id": "b6x2VUZJVl_v",
        "outputId": "fb84febe-10cf-45f6-d9f0-c032d583a02f"
      },
      "source": [
        "score = input(\"score : \")\n",
        "score = int(score)\n",
        "if 81 <= score <= 100:\n",
        "  print(\"grade is A\")\n",
        "elif 61 <= score <= 80:\n",
        "  print(\"grade is B\")\n",
        "elif 41 <= score <= 60:\n",
        "  print(\"grade is C\")\n",
        "elif 21 <= score <= 40:\n",
        "  print(\"grade is D\")\n",
        "else:\n",
        "  print(\"grade is E\")"
      ],
      "execution_count": null,
      "outputs": [
        {
          "output_type": "stream",
          "text": [
            "score : 66\n",
            "grade is B\n"
          ],
          "name": "stdout"
        }
      ]
    },
    {
      "cell_type": "markdown",
      "metadata": {
        "id": "ly_wzPm5Vkoa"
      },
      "source": [
        "**123**"
      ]
    },
    {
      "cell_type": "code",
      "metadata": {
        "colab": {
          "base_uri": "https://localhost:8080/"
        },
        "id": "lqNZ9HSAWOYJ",
        "outputId": "eb42b9ea-62e7-4718-de65-eaedb186ab53"
      },
      "source": [
        "환율 = {\"달러\" : 1167, \"엔\" : 1.096, \"유로\" : 1268, \"위안\" : 171}\n",
        "cost = input(\"입력 : \")\n",
        "num, cur = cost.split() # 공백 있는 입력\n",
        "print(float(num) * 환율[cur], \"원\")"
      ],
      "execution_count": null,
      "outputs": [
        {
          "output_type": "stream",
          "text": [
            "입력 : 100 달러\n",
            "116700.0 원\n"
          ],
          "name": "stdout"
        }
      ]
    },
    {
      "cell_type": "markdown",
      "metadata": {
        "id": "xZHCZBOrZyP-"
      },
      "source": [
        "**124**"
      ]
    },
    {
      "cell_type": "code",
      "metadata": {
        "colab": {
          "base_uri": "https://localhost:8080/"
        },
        "id": "72HnVefEZywy",
        "outputId": "1ba1e523-0474-4b77-8cc3-74cecdbfec76"
      },
      "source": [
        "num1 = input(\"input number1 : \")\n",
        "num2 = input(\"input number2 : \")\n",
        "num3 = input(\"input number3 : \")\n",
        "num = [int(num1), int(num2), int(num3)]\n",
        "print(max(num))"
      ],
      "execution_count": null,
      "outputs": [
        {
          "output_type": "stream",
          "text": [
            "input number1 : 10\n",
            "input number2 : 9\n",
            "input number3 : 20\n",
            "20\n"
          ],
          "name": "stdout"
        }
      ]
    },
    {
      "cell_type": "code",
      "metadata": {
        "colab": {
          "base_uri": "https://localhost:8080/"
        },
        "id": "Y3DScCoIbAgm",
        "outputId": "8bfc5b6a-bd5a-472d-d5fe-6f595efd2526"
      },
      "source": [
        "num1 = input(\"input number1 : \")\n",
        "num2 = input(\"input number2 : \")\n",
        "num3 = input(\"input number3 : \")\n",
        "\n",
        "num1 = int(num1)\n",
        "num2 = int(num2)\n",
        "num3 = int(num3)\n",
        "\n",
        "if num1 > num2 and num1 > num3:\n",
        "  print(num1)\n",
        "elif num2 > num1 and num2 > num3:\n",
        "  print(num2)\n",
        "else:\n",
        "  print(num3)"
      ],
      "execution_count": null,
      "outputs": [
        {
          "output_type": "stream",
          "text": [
            "input number1 : 10\n",
            "input number2 : 9\n",
            "input number3 : 20\n",
            "20\n"
          ],
          "name": "stdout"
        }
      ]
    },
    {
      "cell_type": "markdown",
      "metadata": {
        "id": "6FJQdrdKan8_"
      },
      "source": [
        "- 가장 큰 수 찾기"
      ]
    },
    {
      "cell_type": "code",
      "metadata": {
        "colab": {
          "base_uri": "https://localhost:8080/"
        },
        "id": "w2HvTuZtapQp",
        "outputId": "aa63f706-f375-4540-a085-a2d7992f4479"
      },
      "source": [
        "a = [7, 2, 1, 8, 9, 10]\n",
        "print(max(a))"
      ],
      "execution_count": null,
      "outputs": [
        {
          "output_type": "stream",
          "text": [
            "10\n"
          ],
          "name": "stdout"
        }
      ]
    },
    {
      "cell_type": "code",
      "metadata": {
        "colab": {
          "base_uri": "https://localhost:8080/"
        },
        "id": "v47AJybXazXp",
        "outputId": "58de576c-2ac9-45a3-8e12-aa2b50d2b4bb"
      },
      "source": [
        "a = [7, 2, 1, 8, 9, 10]\n",
        "\n",
        "maxVal = a[0]\n",
        "for i in range(1, len(a)):\n",
        "  if maxVal < a[i]:\n",
        "    maxVal = a[i]\n",
        "print(maxVal)"
      ],
      "execution_count": null,
      "outputs": [
        {
          "output_type": "stream",
          "text": [
            "10\n"
          ],
          "name": "stdout"
        }
      ]
    },
    {
      "cell_type": "markdown",
      "metadata": {
        "id": "0H5T4_U1bQRL"
      },
      "source": [
        "**125**"
      ]
    },
    {
      "cell_type": "code",
      "metadata": {
        "colab": {
          "base_uri": "https://localhost:8080/"
        },
        "id": "iB4kYlRvbQ4x",
        "outputId": "8a122225-e12d-4f42-f094-027c6924d6fb"
      },
      "source": [
        "phone = input(\"휴대전화 번호 입력 : \")\n",
        "ph = phone.split(\"-\")[0]\n",
        "if ph == \"011\":\n",
        "  com = \"SKT\"\n",
        "elif ph == \"016\":\n",
        "  com = \"KT\"\n",
        "elif ph == \"019\":\n",
        "  com = \"LGU\"\n",
        "elif ph == \"010\":\n",
        "  com = \"알 수 없음\"\n",
        "print(f\"당신은 {com} 사용자입니다.\")"
      ],
      "execution_count": 81,
      "outputs": [
        {
          "output_type": "stream",
          "text": [
            "휴대전화 번호 입력 : 010-4197-5069\n",
            "당신은 알 수 없음 사용자입니다.\n"
          ],
          "name": "stdout"
        }
      ]
    },
    {
      "cell_type": "markdown",
      "metadata": {
        "id": "yX8gb56slK6l"
      },
      "source": [
        "python f string formatting\n",
        "\n",
        "-> f'문자열{변수}문자열"
      ]
    }
  ]
}