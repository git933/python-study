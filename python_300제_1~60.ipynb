{
  "nbformat": 4,
  "nbformat_minor": 0,
  "metadata": {
    "colab": {
      "name": "python 300제_1~60.ipynb",
      "provenance": [],
      "collapsed_sections": [],
      "mount_file_id": "1nqDWp4g4B4K0ooyDRlYq9Oq6unOjaQdv",
      "authorship_tag": "ABX9TyP6MuXDIEzkaUG5SBQ21yke",
      "include_colab_link": true
    },
    "kernelspec": {
      "name": "python3",
      "display_name": "Python 3"
    },
    "language_info": {
      "name": "python"
    }
  },
  "cells": [
    {
      "cell_type": "markdown",
      "metadata": {
        "id": "view-in-github",
        "colab_type": "text"
      },
      "source": [
        "<a href=\"https://colab.research.google.com/github/git933/python_study-pm7-10/blob/main/python_300%EC%A0%9C_1~60.ipynb\" target=\"_parent\"><img src=\"https://colab.research.google.com/assets/colab-badge.svg\" alt=\"Open In Colab\"/></a>"
      ]
    },
    {
      "cell_type": "markdown",
      "metadata": {
        "id": "pWbDQM82zV3Y"
      },
      "source": [
        "**1**"
      ]
    },
    {
      "cell_type": "code",
      "metadata": {
        "colab": {
          "base_uri": "https://localhost:8080/"
        },
        "id": "Tj__hSI7zLuP",
        "outputId": "ab384523-7cad-47ed-8ca0-646e28178aff"
      },
      "source": [
        "print(\"Hello World\")"
      ],
      "execution_count": null,
      "outputs": [
        {
          "output_type": "stream",
          "text": [
            "Hello World\n"
          ],
          "name": "stdout"
        }
      ]
    },
    {
      "cell_type": "code",
      "metadata": {
        "colab": {
          "base_uri": "https://localhost:8080/"
        },
        "id": "UjNC6nb4zZuE",
        "outputId": "2c57da0a-05ce-456b-bd5e-4a5394b89c49"
      },
      "source": [
        "print('Hello World')"
      ],
      "execution_count": null,
      "outputs": [
        {
          "output_type": "stream",
          "text": [
            "Hello World\n"
          ],
          "name": "stdout"
        }
      ]
    },
    {
      "cell_type": "markdown",
      "metadata": {
        "id": "CMUVhrdPzcKD"
      },
      "source": [
        "2"
      ]
    },
    {
      "cell_type": "code",
      "metadata": {
        "colab": {
          "base_uri": "https://localhost:8080/"
        },
        "id": "9aBMMR4kzchQ",
        "outputId": "b57debaa-c14b-4a7b-da15-26f129e534b2"
      },
      "source": [
        "print(\"Mary's cosmetics\")"
      ],
      "execution_count": null,
      "outputs": [
        {
          "output_type": "stream",
          "text": [
            "Mary's cosmetics\n"
          ],
          "name": "stdout"
        }
      ]
    },
    {
      "cell_type": "markdown",
      "metadata": {
        "id": "dpFHEt2cz50-"
      },
      "source": [
        "3"
      ]
    },
    {
      "cell_type": "code",
      "metadata": {
        "colab": {
          "base_uri": "https://localhost:8080/"
        },
        "id": "MIOD27waz6Hp",
        "outputId": "434141be-c613-4175-9da6-8924fa5f0f61"
      },
      "source": [
        "print('신씨가 소리질렀다. \"도둑이야\".')"
      ],
      "execution_count": null,
      "outputs": [
        {
          "output_type": "stream",
          "text": [
            "신씨가 소리질렀다. \"도둑이야\".\n"
          ],
          "name": "stdout"
        }
      ]
    },
    {
      "cell_type": "markdown",
      "metadata": {
        "id": "JVDkp-zR0DIh"
      },
      "source": [
        "**4**"
      ]
    },
    {
      "cell_type": "code",
      "metadata": {
        "colab": {
          "base_uri": "https://localhost:8080/"
        },
        "id": "zuzNbG3w0Dls",
        "outputId": "a2a82d3b-486d-431f-a26f-29d98ca902c7"
      },
      "source": [
        "print('\"C:\\Windows\"')"
      ],
      "execution_count": null,
      "outputs": [
        {
          "output_type": "stream",
          "text": [
            "\"C:\\Windows\"\n"
          ],
          "name": "stdout"
        }
      ]
    },
    {
      "cell_type": "markdown",
      "metadata": {
        "id": "H8qZ8E9t0aRT"
      },
      "source": [
        "5"
      ]
    },
    {
      "cell_type": "code",
      "metadata": {
        "colab": {
          "base_uri": "https://localhost:8080/"
        },
        "id": "ykomjXFL0atp",
        "outputId": "59a1e614-66a5-44b5-af74-b7e6ffd1e826"
      },
      "source": [
        "print(\"안녕하세요.\\n만나서\\t\\t반갑습니다.\")"
      ],
      "execution_count": null,
      "outputs": [
        {
          "output_type": "stream",
          "text": [
            "안녕하세요.\n",
            "만나서\t\t반갑습니다.\n"
          ],
          "name": "stdout"
        }
      ]
    },
    {
      "cell_type": "markdown",
      "metadata": {
        "id": "jaOQofpA0iCj"
      },
      "source": [
        "6"
      ]
    },
    {
      "cell_type": "code",
      "metadata": {
        "colab": {
          "base_uri": "https://localhost:8080/"
        },
        "id": "MxnN9P240iVa",
        "outputId": "f8b66239-bbe1-4071-f477-48d114a9ef87"
      },
      "source": [
        "print(\"오늘은\", \"일요일\")"
      ],
      "execution_count": null,
      "outputs": [
        {
          "output_type": "stream",
          "text": [
            "오늘은 일요일\n"
          ],
          "name": "stdout"
        }
      ]
    },
    {
      "cell_type": "markdown",
      "metadata": {
        "id": "lSVY9ZOK0pKM"
      },
      "source": [
        "**7**"
      ]
    },
    {
      "cell_type": "code",
      "metadata": {
        "colab": {
          "base_uri": "https://localhost:8080/"
        },
        "id": "PDO--ryW0pd4",
        "outputId": "079a9b21-3108-4e9d-8ea2-145914c61d50"
      },
      "source": [
        "print(\"naver\", \"kakao\", \"sk\", \"samsung\", sep = \";\")"
      ],
      "execution_count": null,
      "outputs": [
        {
          "output_type": "stream",
          "text": [
            "naver;kakao;sk;samsung\n"
          ],
          "name": "stdout"
        }
      ]
    },
    {
      "cell_type": "markdown",
      "metadata": {
        "id": "1mzjjWqV02pX"
      },
      "source": [
        "8"
      ]
    },
    {
      "cell_type": "code",
      "metadata": {
        "colab": {
          "base_uri": "https://localhost:8080/"
        },
        "id": "V6uJXtQ403Fv",
        "outputId": "2d061213-0c5e-4e6d-e4f8-129e4ff6af78"
      },
      "source": [
        "print(\"naver\", \"kakao\", \"sk\", \"samsung\", sep = \"/\")"
      ],
      "execution_count": null,
      "outputs": [
        {
          "output_type": "stream",
          "text": [
            "naver/kakao/sk/samsung\n"
          ],
          "name": "stdout"
        }
      ]
    },
    {
      "cell_type": "markdown",
      "metadata": {
        "id": "yDLwa1oz0_KU"
      },
      "source": [
        "9"
      ]
    },
    {
      "cell_type": "code",
      "metadata": {
        "colab": {
          "base_uri": "https://localhost:8080/"
        },
        "id": "RJ-rWvYH0_iA",
        "outputId": "e7b7fcb9-9349-4c1a-bac3-6497edb4d78c"
      },
      "source": [
        "print(\"first\", end = \" \");print(\"second\")"
      ],
      "execution_count": null,
      "outputs": [
        {
          "output_type": "stream",
          "text": [
            "first second\n"
          ],
          "name": "stdout"
        }
      ]
    },
    {
      "cell_type": "markdown",
      "metadata": {
        "id": "o9wKUiQC1_BR"
      },
      "source": [
        "10"
      ]
    },
    {
      "cell_type": "code",
      "metadata": {
        "colab": {
          "base_uri": "https://localhost:8080/"
        },
        "id": "ZEHvhVyV1_gA",
        "outputId": "e286a131-96d0-43a5-aae5-08fca44d9b3e"
      },
      "source": [
        "print(5/3)"
      ],
      "execution_count": null,
      "outputs": [
        {
          "output_type": "stream",
          "text": [
            "1.6666666666666667\n"
          ],
          "name": "stdout"
        }
      ]
    },
    {
      "cell_type": "markdown",
      "metadata": {
        "id": "dXuKgtOf2Pw4"
      },
      "source": [
        "\n",
        "\n",
        "---\n",
        "\n"
      ]
    },
    {
      "cell_type": "markdown",
      "metadata": {
        "id": "yiXipyZg2Qdn"
      },
      "source": [
        "11"
      ]
    },
    {
      "cell_type": "code",
      "metadata": {
        "colab": {
          "base_uri": "https://localhost:8080/"
        },
        "id": "OW_uPbPj2RCZ",
        "outputId": "021cafee-7005-47ba-fbf6-def2589bbf5c"
      },
      "source": [
        "삼성전자 = 50000\n",
        "print(삼성전자 * 10)"
      ],
      "execution_count": null,
      "outputs": [
        {
          "output_type": "stream",
          "text": [
            "500000\n"
          ],
          "name": "stdout"
        }
      ]
    },
    {
      "cell_type": "code",
      "metadata": {
        "colab": {
          "base_uri": "https://localhost:8080/"
        },
        "id": "jf6THNRt2ayC",
        "outputId": "84872f1e-1ca2-4891-c5de-96b86f8c1ead"
      },
      "source": [
        "삼성전자 = 50000\n",
        "총평가금액 = 삼성전자 * 10\n",
        "print(총평가금액)"
      ],
      "execution_count": null,
      "outputs": [
        {
          "output_type": "stream",
          "text": [
            "500000\n"
          ],
          "name": "stdout"
        }
      ]
    },
    {
      "cell_type": "markdown",
      "metadata": {
        "id": "0GnuWujr2hPQ"
      },
      "source": [
        "12"
      ]
    },
    {
      "cell_type": "code",
      "metadata": {
        "colab": {
          "base_uri": "https://localhost:8080/"
        },
        "id": "0jgDa5Ea2h0V",
        "outputId": "3520f258-3395-4c51-8a8b-43d3f621355d"
      },
      "source": [
        "시가총액 = 29800000000\n",
        "현재가 = 50000\n",
        "PER = 15.79\n",
        "\n",
        "print(시가총액, type(시가총액))\n",
        "print(현재가, type(현재가))\n",
        "print(PER, type(PER))"
      ],
      "execution_count": null,
      "outputs": [
        {
          "output_type": "stream",
          "text": [
            "29800000000 <class 'int'>\n",
            "50000 <class 'int'>\n",
            "15.79 <class 'float'>\n"
          ],
          "name": "stdout"
        }
      ]
    },
    {
      "cell_type": "markdown",
      "metadata": {
        "id": "CKEMPRqc25Hz"
      },
      "source": [
        "13"
      ]
    },
    {
      "cell_type": "code",
      "metadata": {
        "colab": {
          "base_uri": "https://localhost:8080/"
        },
        "id": "ZFeUfysD2wEe",
        "outputId": "f153f7d3-17fa-4d9d-dbb6-bb98a7a0b723"
      },
      "source": [
        "s = \"hello\"\n",
        "t = \"python\"\n",
        "\n",
        "print(s + \"! \" + t)"
      ],
      "execution_count": null,
      "outputs": [
        {
          "output_type": "stream",
          "text": [
            "hello! python\n"
          ],
          "name": "stdout"
        }
      ]
    },
    {
      "cell_type": "code",
      "metadata": {
        "colab": {
          "base_uri": "https://localhost:8080/"
        },
        "id": "TQLGgcqb3ClA",
        "outputId": "8b0f3116-1a7e-4603-a262-bb8140bc65d3"
      },
      "source": [
        "s = \"hello\"\n",
        "t = \"python\"\n",
        "\n",
        "print(s + \"! \", t)"
      ],
      "execution_count": null,
      "outputs": [
        {
          "output_type": "stream",
          "text": [
            "hello!  python\n"
          ],
          "name": "stdout"
        }
      ]
    },
    {
      "cell_type": "markdown",
      "metadata": {
        "id": "rBNf4f0X3VMd"
      },
      "source": [
        "14"
      ]
    },
    {
      "cell_type": "code",
      "metadata": {
        "colab": {
          "base_uri": "https://localhost:8080/"
        },
        "id": "Eza74RHN3WIV",
        "outputId": "8eae7486-fc3d-4aeb-f1d1-d496c8b6fc4a"
      },
      "source": [
        "print(2 + 2 * 3)"
      ],
      "execution_count": null,
      "outputs": [
        {
          "output_type": "stream",
          "text": [
            "8\n"
          ],
          "name": "stdout"
        }
      ]
    },
    {
      "cell_type": "markdown",
      "metadata": {
        "id": "D5guXePH3aPK"
      },
      "source": [
        "15"
      ]
    },
    {
      "cell_type": "code",
      "metadata": {
        "colab": {
          "base_uri": "https://localhost:8080/"
        },
        "id": "Ng9SYrdL3ao0",
        "outputId": "85f2af2c-acd9-4f78-bf21-82eeb2cd6e89"
      },
      "source": [
        "a = \"132\"\n",
        "print(type(a))"
      ],
      "execution_count": null,
      "outputs": [
        {
          "output_type": "stream",
          "text": [
            "<class 'str'>\n"
          ],
          "name": "stdout"
        }
      ]
    },
    {
      "cell_type": "markdown",
      "metadata": {
        "id": "9viBMdZV3gq6"
      },
      "source": [
        "**16**"
      ]
    },
    {
      "cell_type": "code",
      "metadata": {
        "colab": {
          "base_uri": "https://localhost:8080/"
        },
        "id": "7gKQN27U3hJX",
        "outputId": "1a7dd134-c6b5-4929-898a-2e90ddb37500"
      },
      "source": [
        "num_str = \"720\"\n",
        "num_int = int(num_str)\n",
        "print(num_int)"
      ],
      "execution_count": null,
      "outputs": [
        {
          "output_type": "stream",
          "text": [
            "720\n"
          ],
          "name": "stdout"
        }
      ]
    },
    {
      "cell_type": "markdown",
      "metadata": {
        "id": "6iz7UwT-3yyt"
      },
      "source": [
        "17"
      ]
    },
    {
      "cell_type": "code",
      "metadata": {
        "colab": {
          "base_uri": "https://localhost:8080/"
        },
        "id": "odGD-1Gf3zMF",
        "outputId": "167ab64f-67c8-4a9e-85c2-58190d8e2abf"
      },
      "source": [
        "num = 100\n",
        "num1 = str(num)\n",
        "print(num1, type(num1))"
      ],
      "execution_count": null,
      "outputs": [
        {
          "output_type": "stream",
          "text": [
            "100 <class 'str'>\n"
          ],
          "name": "stdout"
        }
      ]
    },
    {
      "cell_type": "markdown",
      "metadata": {
        "id": "NUSYC8Nf39iN"
      },
      "source": [
        "18"
      ]
    },
    {
      "cell_type": "code",
      "metadata": {
        "colab": {
          "base_uri": "https://localhost:8080/"
        },
        "id": "8iwpkg3t394O",
        "outputId": "440c7e9f-196f-4622-e96b-1f8252d9410c"
      },
      "source": [
        "st = \"15.79\"\n",
        "fl = float(st)\n",
        "print(fl, type(fl))"
      ],
      "execution_count": null,
      "outputs": [
        {
          "output_type": "stream",
          "text": [
            "15.79 <class 'float'>\n"
          ],
          "name": "stdout"
        }
      ]
    },
    {
      "cell_type": "markdown",
      "metadata": {
        "id": "SK7tvWxt4HzR"
      },
      "source": [
        "**19**"
      ]
    },
    {
      "cell_type": "code",
      "metadata": {
        "colab": {
          "base_uri": "https://localhost:8080/"
        },
        "id": "G2q-OfZl4ILP",
        "outputId": "a93b9c19-ad45-4f4d-f58a-ddd534cfc00a"
      },
      "source": [
        "year = \"2020\"\n",
        "inty = int(year)\n",
        "print(inty + 1, inty + 2, inty + 3)"
      ],
      "execution_count": null,
      "outputs": [
        {
          "output_type": "stream",
          "text": [
            "2021 2022 2023\n"
          ],
          "name": "stdout"
        }
      ]
    },
    {
      "cell_type": "code",
      "metadata": {
        "colab": {
          "base_uri": "https://localhost:8080/"
        },
        "id": "RdXGMyye4knR",
        "outputId": "680a29cb-bc12-4104-b43b-1c67d9c33f89"
      },
      "source": [
        "year = \"2020\"\n",
        "print(int(year) - 3)\n",
        "print(int(year) - 2)\n",
        "print(int(year) - 1)"
      ],
      "execution_count": null,
      "outputs": [
        {
          "output_type": "stream",
          "text": [
            "2017\n",
            "2018\n",
            "2019\n"
          ],
          "name": "stdout"
        }
      ]
    },
    {
      "cell_type": "markdown",
      "metadata": {
        "id": "2TMzqYsy4sHv"
      },
      "source": [
        "20"
      ]
    },
    {
      "cell_type": "code",
      "metadata": {
        "colab": {
          "base_uri": "https://localhost:8080/"
        },
        "id": "gwoWY9g54svV",
        "outputId": "b0006c32-0ef7-4630-a878-14c623b848cb"
      },
      "source": [
        "print(48584 * 36)"
      ],
      "execution_count": null,
      "outputs": [
        {
          "output_type": "stream",
          "text": [
            "1749024\n"
          ],
          "name": "stdout"
        }
      ]
    },
    {
      "cell_type": "code",
      "metadata": {
        "colab": {
          "base_uri": "https://localhost:8080/"
        },
        "id": "LIvZ1Lqc5Cow",
        "outputId": "dab111c3-b048-4091-a96a-ea3043b008d6"
      },
      "source": [
        "월 = 48584\n",
        "총금액 = 월 * 36\n",
        "print(총금액)"
      ],
      "execution_count": null,
      "outputs": [
        {
          "output_type": "stream",
          "text": [
            "1749024\n"
          ],
          "name": "stdout"
        }
      ]
    },
    {
      "cell_type": "markdown",
      "metadata": {
        "id": "fd_nzPti5JUm"
      },
      "source": [
        "\n",
        "\n",
        "---\n",
        "\n"
      ]
    },
    {
      "cell_type": "markdown",
      "metadata": {
        "id": "j6DSr4K_5Ktr"
      },
      "source": [
        "**21**"
      ]
    },
    {
      "cell_type": "code",
      "metadata": {
        "colab": {
          "base_uri": "https://localhost:8080/"
        },
        "id": "uObpu3pS5LHt",
        "outputId": "3ac8eec1-59f3-479f-b588-4fa50329d3be"
      },
      "source": [
        "letters = 'python'\n",
        "print(letters[0], letters[2])"
      ],
      "execution_count": null,
      "outputs": [
        {
          "output_type": "stream",
          "text": [
            "p t\n"
          ],
          "name": "stdout"
        }
      ]
    },
    {
      "cell_type": "markdown",
      "metadata": {
        "id": "SdBh7Sc9X64u"
      },
      "source": [
        "**22**"
      ]
    },
    {
      "cell_type": "code",
      "metadata": {
        "colab": {
          "base_uri": "https://localhost:8080/"
        },
        "id": "N1_3-p2iX7a2",
        "outputId": "6a671def-2f84-401b-c1b1-8a08da99b883"
      },
      "source": [
        "license_plate = \"24가 2210\"\n",
        "print(license_plate[4:8])"
      ],
      "execution_count": null,
      "outputs": [
        {
          "output_type": "stream",
          "text": [
            "2210\n"
          ],
          "name": "stdout"
        }
      ]
    },
    {
      "cell_type": "code",
      "metadata": {
        "colab": {
          "base_uri": "https://localhost:8080/"
        },
        "id": "Lsddyn6_djmE",
        "outputId": "2e6d20e6-7714-4791-a9e7-7b9cc6ced64d"
      },
      "source": [
        "license_plate = \"24가 2210\"\n",
        "print(license_plate[-4:])"
      ],
      "execution_count": null,
      "outputs": [
        {
          "output_type": "stream",
          "text": [
            "2210\n"
          ],
          "name": "stdout"
        }
      ]
    },
    {
      "cell_type": "markdown",
      "metadata": {
        "id": "pEFJD5FNdrtR"
      },
      "source": [
        "**23**"
      ]
    },
    {
      "cell_type": "code",
      "metadata": {
        "colab": {
          "base_uri": "https://localhost:8080/"
        },
        "id": "t_IP3XuQdsPP",
        "outputId": "688a6f4a-4336-4c7c-efdd-2f15f7bd7b08"
      },
      "source": [
        "string = \"홀짝홀짝홀짝\"\n",
        "print(string[0], string[2], string[4])"
      ],
      "execution_count": null,
      "outputs": [
        {
          "output_type": "stream",
          "text": [
            "홀 홀 홀\n"
          ],
          "name": "stdout"
        }
      ]
    },
    {
      "cell_type": "code",
      "metadata": {
        "colab": {
          "base_uri": "https://localhost:8080/"
        },
        "id": "MuBIS0Gnd6Yw",
        "outputId": "85f1f3cb-1d9d-4fd1-d801-0ab2998c5059"
      },
      "source": [
        "string = \"홀짝홀짝홀짝\"\n",
        "print(string[::2])"
      ],
      "execution_count": null,
      "outputs": [
        {
          "output_type": "stream",
          "text": [
            "홀홀홀\n"
          ],
          "name": "stdout"
        }
      ]
    },
    {
      "cell_type": "markdown",
      "metadata": {
        "id": "AM_YsTt_eA4w"
      },
      "source": [
        "**24**"
      ]
    },
    {
      "cell_type": "code",
      "metadata": {
        "colab": {
          "base_uri": "https://localhost:8080/"
        },
        "id": "FY0lsx3reBR-",
        "outputId": "1efa85dc-deee-4640-875f-46e6914748c4"
      },
      "source": [
        "string = \"PYTHON\"\n",
        "print(string[::-1])"
      ],
      "execution_count": null,
      "outputs": [
        {
          "output_type": "stream",
          "text": [
            "NOHTYP\n"
          ],
          "name": "stdout"
        }
      ]
    },
    {
      "cell_type": "markdown",
      "metadata": {
        "id": "t4UjQM7aeWnh"
      },
      "source": [
        "**25**"
      ]
    },
    {
      "cell_type": "code",
      "metadata": {
        "colab": {
          "base_uri": "https://localhost:8080/"
        },
        "id": "JFYXDF7ceXBc",
        "outputId": "684c172b-0138-474f-ad2a-814d34eb84d3"
      },
      "source": [
        "phone_number = \"010-1111-2222\"\n",
        "phone_number1 = phone_number.replace(\"-\", \" \")\n",
        "print(phone_number1)"
      ],
      "execution_count": null,
      "outputs": [
        {
          "output_type": "stream",
          "text": [
            "010 1111 2222\n"
          ],
          "name": "stdout"
        }
      ]
    },
    {
      "cell_type": "markdown",
      "metadata": {
        "id": "zPWAXrNif8BB"
      },
      "source": [
        "26"
      ]
    },
    {
      "cell_type": "code",
      "metadata": {
        "colab": {
          "base_uri": "https://localhost:8080/"
        },
        "id": "bWjjL0ywf8ad",
        "outputId": "46c13e24-66d7-4337-af3c-e0c237d149c0"
      },
      "source": [
        "phone_number = \"010-1111-2222\"\n",
        "phone_number1 = phone_number.replace(\"-\", \"\")\n",
        "print(phone_number1)"
      ],
      "execution_count": null,
      "outputs": [
        {
          "output_type": "stream",
          "text": [
            "01011112222\n"
          ],
          "name": "stdout"
        }
      ]
    },
    {
      "cell_type": "markdown",
      "metadata": {
        "id": "jJkUYtpegL6z"
      },
      "source": [
        "27"
      ]
    },
    {
      "cell_type": "code",
      "metadata": {
        "colab": {
          "base_uri": "https://localhost:8080/"
        },
        "id": "ZH1LFIfRgMZx",
        "outputId": "960cb894-c5b8-46db-dee0-39f04fcb8f32"
      },
      "source": [
        "url = \"http://sharebook.kr\"\n",
        "print(url[-2:])"
      ],
      "execution_count": null,
      "outputs": [
        {
          "output_type": "stream",
          "text": [
            "kr\n"
          ],
          "name": "stdout"
        }
      ]
    },
    {
      "cell_type": "code",
      "metadata": {
        "colab": {
          "base_uri": "https://localhost:8080/"
        },
        "id": "x8fme16e5EEx",
        "outputId": "22ae314d-687c-4c3d-da35-c7de19b62a92"
      },
      "source": [
        "url = \"http://sharebook.kr\"\n",
        "url_split = url.split('.')\n",
        "print(url_split[-1])"
      ],
      "execution_count": null,
      "outputs": [
        {
          "output_type": "stream",
          "text": [
            "kr\n"
          ],
          "name": "stdout"
        }
      ]
    },
    {
      "cell_type": "markdown",
      "metadata": {
        "id": "YdA9INZT5bzq"
      },
      "source": [
        "28"
      ]
    },
    {
      "cell_type": "code",
      "metadata": {
        "colab": {
          "base_uri": "https://localhost:8080/",
          "height": 215
        },
        "id": "8FbDZ1uy5MqZ",
        "outputId": "8e838880-7be1-4652-abc1-6fcc6cdb771b"
      },
      "source": [
        "lang = 'python'\n",
        "lang[0] = 'P'\n",
        "print(lang)"
      ],
      "execution_count": null,
      "outputs": [
        {
          "output_type": "error",
          "ename": "TypeError",
          "evalue": "ignored",
          "traceback": [
            "\u001b[0;31m---------------------------------------------------------------------------\u001b[0m",
            "\u001b[0;31mTypeError\u001b[0m                                 Traceback (most recent call last)",
            "\u001b[0;32m<ipython-input-12-ba8eb7824ab8>\u001b[0m in \u001b[0;36m<module>\u001b[0;34m()\u001b[0m\n\u001b[1;32m      1\u001b[0m \u001b[0mlang\u001b[0m \u001b[0;34m=\u001b[0m \u001b[0;34m'python'\u001b[0m\u001b[0;34m\u001b[0m\u001b[0;34m\u001b[0m\u001b[0m\n\u001b[0;32m----> 2\u001b[0;31m \u001b[0mlang\u001b[0m\u001b[0;34m[\u001b[0m\u001b[0;36m0\u001b[0m\u001b[0;34m]\u001b[0m \u001b[0;34m=\u001b[0m \u001b[0;34m'P'\u001b[0m\u001b[0;34m\u001b[0m\u001b[0;34m\u001b[0m\u001b[0m\n\u001b[0m\u001b[1;32m      3\u001b[0m \u001b[0mprint\u001b[0m\u001b[0;34m(\u001b[0m\u001b[0mlang\u001b[0m\u001b[0;34m)\u001b[0m\u001b[0;34m\u001b[0m\u001b[0;34m\u001b[0m\u001b[0m\n",
            "\u001b[0;31mTypeError\u001b[0m: 'str' object does not support item assignment"
          ]
        }
      ]
    },
    {
      "cell_type": "markdown",
      "metadata": {
        "id": "3OiP38fZ5UZ1"
      },
      "source": [
        "문자열(str)은 할당(assignment) 메서드 지원 안함 "
      ]
    },
    {
      "cell_type": "markdown",
      "metadata": {
        "id": "8HU5n5rP5dF_"
      },
      "source": [
        "29"
      ]
    },
    {
      "cell_type": "code",
      "metadata": {
        "colab": {
          "base_uri": "https://localhost:8080/"
        },
        "id": "GFPT4HIs5dmK",
        "outputId": "bb6561c6-60f7-4247-d5e1-eacb733d72bf"
      },
      "source": [
        "string = 'abcdfe2a354a32a'\n",
        "str1 = string.replace('a', 'A')\n",
        "print(str1)"
      ],
      "execution_count": null,
      "outputs": [
        {
          "output_type": "stream",
          "text": [
            "Abcdfe2A354A32A\n"
          ],
          "name": "stdout"
        }
      ]
    },
    {
      "cell_type": "markdown",
      "metadata": {
        "id": "sK7UDDWE5sAr"
      },
      "source": [
        "30"
      ]
    },
    {
      "cell_type": "code",
      "metadata": {
        "colab": {
          "base_uri": "https://localhost:8080/"
        },
        "id": "xaPNdx3g5s8G",
        "outputId": "cc89cc50-5d06-4a8a-b558-781af84577dd"
      },
      "source": [
        "string = 'abcd'\n",
        "string.replace('b', 'B')\n",
        "print(string)"
      ],
      "execution_count": null,
      "outputs": [
        {
          "output_type": "stream",
          "text": [
            "abcd\n"
          ],
          "name": "stdout"
        }
      ]
    },
    {
      "cell_type": "markdown",
      "metadata": {
        "id": "lp5Bdhyz50i0"
      },
      "source": [
        "문자열은 변경할 수 없는 자료형이다\n",
        "\n",
        "---\n",
        "\n"
      ]
    },
    {
      "cell_type": "markdown",
      "metadata": {
        "id": "HZqoSack53Ze"
      },
      "source": [
        "31"
      ]
    },
    {
      "cell_type": "code",
      "metadata": {
        "colab": {
          "base_uri": "https://localhost:8080/"
        },
        "id": "8I5iDwAk54lc",
        "outputId": "ad6d27b5-a931-4ab5-9281-c7bfeb6c354b"
      },
      "source": [
        "a = \"3\"\n",
        "b = \"4\"\n",
        "print(a + b)"
      ],
      "execution_count": null,
      "outputs": [
        {
          "output_type": "stream",
          "text": [
            "34\n"
          ],
          "name": "stdout"
        }
      ]
    },
    {
      "cell_type": "markdown",
      "metadata": {
        "id": "p-3Qt8EK6JMc"
      },
      "source": [
        "32"
      ]
    },
    {
      "cell_type": "code",
      "metadata": {
        "colab": {
          "base_uri": "https://localhost:8080/"
        },
        "id": "whHuI8TL6KZE",
        "outputId": "3d46dbc6-5a51-4dc2-e0e0-6847284cf9c3"
      },
      "source": [
        "print(\"Hi\" * 3)"
      ],
      "execution_count": null,
      "outputs": [
        {
          "output_type": "stream",
          "text": [
            "HiHiHi\n"
          ],
          "name": "stdout"
        }
      ]
    },
    {
      "cell_type": "markdown",
      "metadata": {
        "id": "cEhJXt3N6OMt"
      },
      "source": [
        "33"
      ]
    },
    {
      "cell_type": "code",
      "metadata": {
        "colab": {
          "base_uri": "https://localhost:8080/"
        },
        "id": "3xIbZSJ76OtM",
        "outputId": "cb3cd186-299a-4b34-ee58-adad16fa29e6"
      },
      "source": [
        "print(\"-\" * 80)"
      ],
      "execution_count": null,
      "outputs": [
        {
          "output_type": "stream",
          "text": [
            "--------------------------------------------------------------------------------\n"
          ],
          "name": "stdout"
        }
      ]
    },
    {
      "cell_type": "markdown",
      "metadata": {
        "id": "4lFqUdp-6R-a"
      },
      "source": [
        "34"
      ]
    },
    {
      "cell_type": "code",
      "metadata": {
        "colab": {
          "base_uri": "https://localhost:8080/"
        },
        "id": "AhWWJP4T6SoG",
        "outputId": "fdd73926-e24c-4e6c-866a-f19197ba9c2d"
      },
      "source": [
        "t1 = 'python'\n",
        "t2 = 'java'\n",
        "print((t1 + ' ' + t2 + ' ') * 4)"
      ],
      "execution_count": null,
      "outputs": [
        {
          "output_type": "stream",
          "text": [
            "python java python java python java python java \n"
          ],
          "name": "stdout"
        }
      ]
    },
    {
      "cell_type": "code",
      "metadata": {
        "colab": {
          "base_uri": "https://localhost:8080/"
        },
        "id": "HhPcWYIn6p0p",
        "outputId": "6ad93a7c-2d69-44b5-f6fa-f10bc2557646"
      },
      "source": [
        "t1 = 'python'\n",
        "t2 = 'java'\n",
        "t3 = t1 + ' ' + t2 + ' '\n",
        "print(t3 * 4)"
      ],
      "execution_count": null,
      "outputs": [
        {
          "output_type": "stream",
          "text": [
            "python java python java python java python java \n"
          ],
          "name": "stdout"
        }
      ]
    },
    {
      "cell_type": "markdown",
      "metadata": {
        "id": "GWQOW1bi6pPY"
      },
      "source": [
        "35"
      ]
    },
    {
      "cell_type": "code",
      "metadata": {
        "colab": {
          "base_uri": "https://localhost:8080/"
        },
        "id": "M0hFvs7I6wJa",
        "outputId": "34698e89-1d96-4cd2-d8ac-e95e3939aa68"
      },
      "source": [
        "name1 = \"김민수\"\n",
        "age1 = 10\n",
        "name2 = \"이철희\"\n",
        "age2 = 13\n",
        "print('이름 : %s' % name1 + ' 나이 : %d' % age1 + '\\n이름 : %s' % name2 + ' 나이 : %d' % age2)"
      ],
      "execution_count": null,
      "outputs": [
        {
          "output_type": "stream",
          "text": [
            "이름 : 김민수 나이 : 10\n",
            "이름 : 이철희 나이 : 13\n"
          ],
          "name": "stdout"
        }
      ]
    },
    {
      "cell_type": "code",
      "metadata": {
        "colab": {
          "base_uri": "https://localhost:8080/"
        },
        "id": "oaH6hjki8RHc",
        "outputId": "5e25a0a3-d952-4627-f6ec-f99d1b56a8ed"
      },
      "source": [
        "name1 = \"김민수\"\n",
        "age1 = 10\n",
        "name2 = \"이철희\"\n",
        "age2 = 13\n",
        "print(\"이름 : %s 나이 : %d\" %(name1, age1))\n",
        "print(\"이름 : %s 나이 : %d\" % (name2, age2))"
      ],
      "execution_count": null,
      "outputs": [
        {
          "output_type": "stream",
          "text": [
            "이름 : 김민수 나이 : 10\n",
            "이름 : 이철희 나이 : 13\n"
          ],
          "name": "stdout"
        }
      ]
    },
    {
      "cell_type": "markdown",
      "metadata": {
        "id": "yKcWGlyo8cbC"
      },
      "source": [
        "%s : 문자열\n",
        "\n",
        "%d : 정수형\n",
        "\n",
        "\n",
        "---\n",
        "\n"
      ]
    },
    {
      "cell_type": "markdown",
      "metadata": {
        "id": "FtxlyWL48hsy"
      },
      "source": [
        "**41**"
      ]
    },
    {
      "cell_type": "code",
      "metadata": {
        "colab": {
          "base_uri": "https://localhost:8080/"
        },
        "id": "ff7_dDqe8iUg",
        "outputId": "a7192549-06da-48f2-bdc2-e8269f6fa8a3"
      },
      "source": [
        "ticker = \"btc_krw\"\n",
        "ticker1 = ticker.upper()\n",
        "print(ticker1)"
      ],
      "execution_count": null,
      "outputs": [
        {
          "output_type": "stream",
          "text": [
            "BTC_KRW\n"
          ],
          "name": "stdout"
        }
      ]
    },
    {
      "cell_type": "markdown",
      "metadata": {
        "id": "KrshrIKxERiA"
      },
      "source": [
        "42"
      ]
    },
    {
      "cell_type": "code",
      "metadata": {
        "colab": {
          "base_uri": "https://localhost:8080/"
        },
        "id": "P5UoGFoQER9e",
        "outputId": "d07a5f64-a34a-4532-aa5e-be914c14aea7"
      },
      "source": [
        "ticker = \"BTC_KRW\"\n",
        "tkr = ticker.lower()\n",
        "print(tkr)"
      ],
      "execution_count": null,
      "outputs": [
        {
          "output_type": "stream",
          "text": [
            "btc_krw\n"
          ],
          "name": "stdout"
        }
      ]
    },
    {
      "cell_type": "markdown",
      "metadata": {
        "id": "REXMJB5MEYv4"
      },
      "source": [
        "**43**"
      ]
    },
    {
      "cell_type": "code",
      "metadata": {
        "colab": {
          "base_uri": "https://localhost:8080/"
        },
        "id": "T54m0mVLEeO2",
        "outputId": "321d3b9f-127f-4676-a05c-7e07a4b2771d"
      },
      "source": [
        "a = \"hello\"\n",
        "a = a.capitalize()\n",
        "print(a)"
      ],
      "execution_count": null,
      "outputs": [
        {
          "output_type": "stream",
          "text": [
            "Hello\n"
          ],
          "name": "stdout"
        }
      ]
    },
    {
      "cell_type": "markdown",
      "metadata": {
        "id": "zJ5iPzhpEmsM"
      },
      "source": [
        "**44**"
      ]
    },
    {
      "cell_type": "code",
      "metadata": {
        "colab": {
          "base_uri": "https://localhost:8080/"
        },
        "id": "XBLlv8C8EnpK",
        "outputId": "1971f950-4556-430f-8973-8cfb10976b4c"
      },
      "source": [
        "file_name = \"보고서.xlsx\"\n",
        "file_name.endswith((\"xlsx\"))"
      ],
      "execution_count": null,
      "outputs": [
        {
          "output_type": "execute_result",
          "data": {
            "text/plain": [
              "True"
            ]
          },
          "metadata": {
            "tags": []
          },
          "execution_count": 42
        }
      ]
    },
    {
      "cell_type": "markdown",
      "metadata": {
        "id": "1G7GFNjbF1fU"
      },
      "source": [
        "45"
      ]
    },
    {
      "cell_type": "code",
      "metadata": {
        "colab": {
          "base_uri": "https://localhost:8080/"
        },
        "id": "O0KDAPoUFjyb",
        "outputId": "d2ea5b96-fe5b-4c1a-d49c-c23d769e6641"
      },
      "source": [
        "file_name = \"보고서.xlsx\"\n",
        "file_name.endswith(('xlsx', 'xls'))"
      ],
      "execution_count": null,
      "outputs": [
        {
          "output_type": "execute_result",
          "data": {
            "text/plain": [
              "True"
            ]
          },
          "metadata": {
            "tags": []
          },
          "execution_count": 43
        }
      ]
    },
    {
      "cell_type": "markdown",
      "metadata": {
        "id": "hBAyeuCFF3X7"
      },
      "source": [
        "46"
      ]
    },
    {
      "cell_type": "code",
      "metadata": {
        "colab": {
          "base_uri": "https://localhost:8080/"
        },
        "id": "fA78GI8DF3ps",
        "outputId": "5aa99acd-e1dd-47b2-8000-e47517477cc9"
      },
      "source": [
        "file_name = \"2020_보고서.xlsx\"\n",
        "file_name.startswith('2020')"
      ],
      "execution_count": null,
      "outputs": [
        {
          "output_type": "execute_result",
          "data": {
            "text/plain": [
              "True"
            ]
          },
          "metadata": {
            "tags": []
          },
          "execution_count": 44
        }
      ]
    },
    {
      "cell_type": "code",
      "metadata": {
        "colab": {
          "base_uri": "https://localhost:8080/"
        },
        "id": "OSr_gydYGARX",
        "outputId": "b06ebdeb-6965-4cf0-c2cb-048807ec5562"
      },
      "source": [
        "file_name = \"2020_보고서.xlsx\"\n",
        "file_name.startswith(\"2020\")"
      ],
      "execution_count": null,
      "outputs": [
        {
          "output_type": "execute_result",
          "data": {
            "text/plain": [
              "True"
            ]
          },
          "metadata": {
            "tags": []
          },
          "execution_count": 45
        }
      ]
    },
    {
      "cell_type": "markdown",
      "metadata": {
        "id": "cmQTOa3tGCqX"
      },
      "source": [
        "47"
      ]
    },
    {
      "cell_type": "code",
      "metadata": {
        "colab": {
          "base_uri": "https://localhost:8080/"
        },
        "id": "yCaLNOCCGDEQ",
        "outputId": "fbafd699-6527-46bb-94ae-a67e35aa266f"
      },
      "source": [
        "a = \"hello world\"\n",
        "a.split(' ')"
      ],
      "execution_count": null,
      "outputs": [
        {
          "output_type": "execute_result",
          "data": {
            "text/plain": [
              "['hello', 'world']"
            ]
          },
          "metadata": {
            "tags": []
          },
          "execution_count": 46
        }
      ]
    },
    {
      "cell_type": "markdown",
      "metadata": {
        "id": "u5tNSYSkGNux"
      },
      "source": [
        "48"
      ]
    },
    {
      "cell_type": "code",
      "metadata": {
        "colab": {
          "base_uri": "https://localhost:8080/"
        },
        "id": "_iBo4Q9pGOLc",
        "outputId": "ceede82c-0293-47d8-b0ae-76b8ebd75b7d"
      },
      "source": [
        "ticker = \"btc_krw\"\n",
        "ticker.split('_')"
      ],
      "execution_count": null,
      "outputs": [
        {
          "output_type": "execute_result",
          "data": {
            "text/plain": [
              "['btc', 'krw']"
            ]
          },
          "metadata": {
            "tags": []
          },
          "execution_count": 47
        }
      ]
    },
    {
      "cell_type": "code",
      "metadata": {
        "colab": {
          "base_uri": "https://localhost:8080/"
        },
        "id": "OFy2Ef7eGUL7",
        "outputId": "42a553ed-0233-48f2-8b19-c1942f2cf26b"
      },
      "source": [
        "ticker = \"btc_krw\"\n",
        "ticker.split(\"_\")"
      ],
      "execution_count": null,
      "outputs": [
        {
          "output_type": "execute_result",
          "data": {
            "text/plain": [
              "['btc', 'krw']"
            ]
          },
          "metadata": {
            "tags": []
          },
          "execution_count": 48
        }
      ]
    },
    {
      "cell_type": "markdown",
      "metadata": {
        "id": "dNtE7CWWGXIY"
      },
      "source": [
        "49"
      ]
    },
    {
      "cell_type": "code",
      "metadata": {
        "colab": {
          "base_uri": "https://localhost:8080/"
        },
        "id": "rj_4bwVwGXhw",
        "outputId": "710b2876-f242-410b-d21e-78a2fbd6e659"
      },
      "source": [
        "date = \"2020-05-01\"\n",
        "date.split(\"-\")"
      ],
      "execution_count": null,
      "outputs": [
        {
          "output_type": "execute_result",
          "data": {
            "text/plain": [
              "['2020', '05', '01']"
            ]
          },
          "metadata": {
            "tags": []
          },
          "execution_count": 49
        }
      ]
    },
    {
      "cell_type": "markdown",
      "metadata": {
        "id": "nk-JSqtjGccd"
      },
      "source": [
        "**50**"
      ]
    },
    {
      "cell_type": "code",
      "metadata": {
        "colab": {
          "base_uri": "https://localhost:8080/"
        },
        "id": "b2J4ZKsFGdAb",
        "outputId": "122e1139-4a8a-4692-f592-50120f936f09"
      },
      "source": [
        "data = \"039490  \"\n",
        "print(data.rstrip())"
      ],
      "execution_count": null,
      "outputs": [
        {
          "output_type": "stream",
          "text": [
            "039490\n"
          ],
          "name": "stdout"
        }
      ]
    },
    {
      "cell_type": "markdown",
      "metadata": {
        "id": "CXEW5ykgIKBa"
      },
      "source": [
        "\n",
        "\n",
        "---\n",
        "\n"
      ]
    },
    {
      "cell_type": "markdown",
      "metadata": {
        "id": "1kvS9yd5IK_D"
      },
      "source": [
        "51"
      ]
    },
    {
      "cell_type": "code",
      "metadata": {
        "id": "tj6meCFFILZS"
      },
      "source": [
        "movie_rank = [\"닥터 스트레인지\", \"스플릿\", \"럭키\"]"
      ],
      "execution_count": null,
      "outputs": []
    },
    {
      "cell_type": "markdown",
      "metadata": {
        "id": "GsK_AjyOIS9Z"
      },
      "source": [
        "**52**"
      ]
    },
    {
      "cell_type": "code",
      "metadata": {
        "id": "PEUwzMXsITT4"
      },
      "source": [
        "movie_rank = [\"닥터 스트레인지\", \"스플릿\", \"럭키\", \"배트맨\"]"
      ],
      "execution_count": null,
      "outputs": []
    },
    {
      "cell_type": "code",
      "metadata": {
        "colab": {
          "base_uri": "https://localhost:8080/"
        },
        "id": "yI4-pMpUIr9C",
        "outputId": "209f28ac-00c0-462c-9eca-936058f724ef"
      },
      "source": [
        "movie_rank = [\"닥터 스트레인지\", \"스플릿\", \"럭키\"]\n",
        "movie_rank.append(\"배트맨\")\n",
        "print(movie_rank)"
      ],
      "execution_count": null,
      "outputs": [
        {
          "output_type": "stream",
          "text": [
            "['닥터 스트레인지', '스플릿', '럭키', '배트맨']\n"
          ],
          "name": "stdout"
        }
      ]
    },
    {
      "cell_type": "markdown",
      "metadata": {
        "id": "dzgpqBxlI0Cc"
      },
      "source": [
        "53"
      ]
    },
    {
      "cell_type": "code",
      "metadata": {
        "colab": {
          "base_uri": "https://localhost:8080/"
        },
        "id": "fcZY9t53IpeJ",
        "outputId": "75f5349b-724a-4164-8658-6fdced9b99cf"
      },
      "source": [
        "movie_rank = ['닥터 스트레인지', '스플릿', '럭키', '배트맨']\n",
        "movie_rank.insert(1, '배트맨')\n",
        "print(movie_rank)"
      ],
      "execution_count": null,
      "outputs": [
        {
          "output_type": "stream",
          "text": [
            "['닥터 스트레인지', '배트맨', '스플릿', '럭키', '배트맨']\n"
          ],
          "name": "stdout"
        }
      ]
    },
    {
      "cell_type": "markdown",
      "metadata": {
        "id": "6XfBCPGcJDBf"
      },
      "source": [
        "**54**"
      ]
    },
    {
      "cell_type": "code",
      "metadata": {
        "colab": {
          "base_uri": "https://localhost:8080/"
        },
        "id": "6YlrhmEbJDbg",
        "outputId": "e46c9496-3809-499b-f53f-ccb0a54ac512"
      },
      "source": [
        "movie_rank = ['닥터 스트레인지', '슈퍼맨', '스플릿', '럭키', '배트맨']\n",
        "movie_rank.remove('럭키')\n",
        "print(movie_rank)"
      ],
      "execution_count": null,
      "outputs": [
        {
          "output_type": "stream",
          "text": [
            "['닥터 스트레인지', '슈퍼맨', '스플릿', '배트맨']\n"
          ],
          "name": "stdout"
        }
      ]
    },
    {
      "cell_type": "code",
      "metadata": {
        "colab": {
          "base_uri": "https://localhost:8080/"
        },
        "id": "FGRt3DblJtOe",
        "outputId": "e7b34e21-6e51-4647-84a0-5ca78348cbb3"
      },
      "source": [
        "movie_rank = ['닥터 스트레인지', '슈퍼맨', '스플릿', '럭키', '배트맨']\n",
        "del movie_rank[3]\n",
        "print(movie_rank)"
      ],
      "execution_count": null,
      "outputs": [
        {
          "output_type": "stream",
          "text": [
            "['닥터 스트레인지', '슈퍼맨', '스플릿', '배트맨']\n"
          ],
          "name": "stdout"
        }
      ]
    },
    {
      "cell_type": "markdown",
      "metadata": {
        "id": "T7qr022IJyHt"
      },
      "source": [
        "**55**"
      ]
    },
    {
      "cell_type": "code",
      "metadata": {
        "colab": {
          "base_uri": "https://localhost:8080/"
        },
        "id": "8-cXF-RJJyb-",
        "outputId": "c46ccf9e-ca10-46c6-d07d-0619489005f9"
      },
      "source": [
        "movie_rank = ['닥터 스트레인지', '슈퍼맨', '스플릿', '럭키', '배트맨']\n",
        "del movie_rank[2]\n",
        "del movie_rank[2]\n",
        "print(movie_rank)"
      ],
      "execution_count": null,
      "outputs": [
        {
          "output_type": "stream",
          "text": [
            "['닥터 스트레인지', '슈퍼맨', '배트맨']\n"
          ],
          "name": "stdout"
        }
      ]
    },
    {
      "cell_type": "code",
      "metadata": {
        "colab": {
          "base_uri": "https://localhost:8080/"
        },
        "id": "sed2iUT8KDLt",
        "outputId": "ba391c50-195d-430f-8a9e-707d8bcb9ce5"
      },
      "source": [
        "movie_rank = ['닥터 스트레인지', '슈퍼맨', '스플릿', '럭키', '배트맨']\n",
        "\n",
        "for i in range(2):\n",
        "  del movie_rank[2]\n",
        "\n",
        "print(movie_rank)"
      ],
      "execution_count": null,
      "outputs": [
        {
          "output_type": "stream",
          "text": [
            "['닥터 스트레인지', '슈퍼맨', '배트맨']\n"
          ],
          "name": "stdout"
        }
      ]
    },
    {
      "cell_type": "markdown",
      "metadata": {
        "id": "MMtSvSehKTd4"
      },
      "source": [
        "del을 이용한 원소 삭제\n",
        "\n",
        "삭제 이후 남은 값들은 새로 인덱싱됨"
      ]
    },
    {
      "cell_type": "markdown",
      "metadata": {
        "id": "0PrB3ftPKX5g"
      },
      "source": [
        "56"
      ]
    },
    {
      "cell_type": "code",
      "metadata": {
        "colab": {
          "base_uri": "https://localhost:8080/"
        },
        "id": "IYLo8BsyKYmO",
        "outputId": "78d47808-faf0-473d-fc37-8f93f32245f4"
      },
      "source": [
        "lang1 = [\"C\", \"C++\", \"JAVA\"]\n",
        "lang2 = [\"Python\", \"Go\", \"C#\"]\n",
        "\n",
        "lang3 = lang1 + lang2\n",
        "print(lang3)"
      ],
      "execution_count": null,
      "outputs": [
        {
          "output_type": "stream",
          "text": [
            "['C', 'C++', 'JAVA', 'Python', 'Go', 'C#']\n"
          ],
          "name": "stdout"
        }
      ]
    },
    {
      "cell_type": "markdown",
      "metadata": {
        "id": "cmEy2GJ2KzEc"
      },
      "source": [
        "57"
      ]
    },
    {
      "cell_type": "code",
      "metadata": {
        "colab": {
          "base_uri": "https://localhost:8080/"
        },
        "id": "oWB5kxUrKztK",
        "outputId": "e71bd7f9-5033-41b4-d958-e2230f0121bb"
      },
      "source": [
        "nums = [1, 2, 3, 4, 5, 6, 7]\n",
        "print(\"max : \", max(nums))\n",
        "print(\"min : \", min(nums))"
      ],
      "execution_count": null,
      "outputs": [
        {
          "output_type": "stream",
          "text": [
            "max :  7\n",
            "min :  1\n"
          ],
          "name": "stdout"
        }
      ]
    },
    {
      "cell_type": "markdown",
      "metadata": {
        "id": "bYm6b7t3LVMr"
      },
      "source": [
        "58"
      ]
    },
    {
      "cell_type": "code",
      "metadata": {
        "colab": {
          "base_uri": "https://localhost:8080/"
        },
        "id": "cEBiWTZhLV0i",
        "outputId": "f449d6dc-2e38-49f0-c383-32d171cf0c7e"
      },
      "source": [
        "nums = [1, 2, 3, 4, 5]\n",
        "print(sum(nums))"
      ],
      "execution_count": null,
      "outputs": [
        {
          "output_type": "stream",
          "text": [
            "15\n"
          ],
          "name": "stdout"
        }
      ]
    },
    {
      "cell_type": "markdown",
      "metadata": {
        "id": "JHjjzLmZLaWc"
      },
      "source": [
        "59"
      ]
    },
    {
      "cell_type": "code",
      "metadata": {
        "colab": {
          "base_uri": "https://localhost:8080/"
        },
        "id": "a5rGzSfULa5Q",
        "outputId": "5e5e7df8-cef0-4dd2-9043-3ea1b581842b"
      },
      "source": [
        "cook = [\"피자\", \"김밥\", \"만두\", \"양념치킨\", \"족발\", \"피자\", \"김치만두\", \"쫄면\", \"쏘세지\", \"라면\", \"팥빙수\", \"김치전\"]\n",
        "print(len(cook))"
      ],
      "execution_count": null,
      "outputs": [
        {
          "output_type": "stream",
          "text": [
            "12\n"
          ],
          "name": "stdout"
        }
      ]
    },
    {
      "cell_type": "markdown",
      "metadata": {
        "id": "_ocPTM5BLeaa"
      },
      "source": [
        "60"
      ]
    },
    {
      "cell_type": "code",
      "metadata": {
        "colab": {
          "base_uri": "https://localhost:8080/"
        },
        "id": "rrfZYVgqLfEM",
        "outputId": "fb7ad1db-10a2-4e43-8232-d9854a65e8ca"
      },
      "source": [
        "nums = [1, 2, 3, 4, 5]\n",
        "print(sum(nums) / len(nums))"
      ],
      "execution_count": null,
      "outputs": [
        {
          "output_type": "stream",
          "text": [
            "3.0\n"
          ],
          "name": "stdout"
        }
      ]
    },
    {
      "cell_type": "code",
      "metadata": {
        "colab": {
          "base_uri": "https://localhost:8080/"
        },
        "id": "558pulCqLlGg",
        "outputId": "b43a12cd-372c-4e34-8a8d-48e0b27146dd"
      },
      "source": [
        "nums = [1, 2, 3, 4, 5]\n",
        "average = sum(nums) / len(nums)\n",
        "print(average)"
      ],
      "execution_count": null,
      "outputs": [
        {
          "output_type": "stream",
          "text": [
            "3.0\n"
          ],
          "name": "stdout"
        }
      ]
    },
    {
      "cell_type": "code",
      "metadata": {
        "colab": {
          "base_uri": "https://localhost:8080/"
        },
        "id": "AJCW16rdudbv",
        "outputId": "689b7298-f63e-48bc-a7e5-48b12f40810c"
      },
      "source": [
        "import numpy as np\n",
        "\n",
        "nums = [1, 2, 3, 4, 5]\n",
        "print(np.mean(nums))"
      ],
      "execution_count": null,
      "outputs": [
        {
          "output_type": "stream",
          "text": [
            "3.0\n"
          ],
          "name": "stdout"
        }
      ]
    },
    {
      "cell_type": "markdown",
      "metadata": {
        "id": "MNLeeGsvLqqJ"
      },
      "source": [
        "\n",
        "\n",
        "---\n",
        "\n"
      ]
    },
    {
      "cell_type": "markdown",
      "metadata": {
        "id": "gj9AFX6bLreN"
      },
      "source": [
        "**61**"
      ]
    },
    {
      "cell_type": "code",
      "metadata": {
        "colab": {
          "base_uri": "https://localhost:8080/"
        },
        "id": "P0rf642gz6HH",
        "outputId": "ed787ff4-375a-4cae-8171-40d21521df56"
      },
      "source": [
        "price = ['20180728', 100, 130, 140, 150, 160, 170]\n",
        "print(price[1:7])"
      ],
      "execution_count": null,
      "outputs": [
        {
          "output_type": "stream",
          "text": [
            "[100, 130, 140, 150, 160, 170]\n"
          ],
          "name": "stdout"
        }
      ]
    },
    {
      "cell_type": "code",
      "metadata": {
        "colab": {
          "base_uri": "https://localhost:8080/"
        },
        "id": "p45iheuS1RX6",
        "outputId": "e8528248-bf0e-4ef6-fdf8-fc2fbfc90caa"
      },
      "source": [
        "price = ['20180728', 100, 130, 140, 150, 160, 170]\n",
        "print(price[1:])"
      ],
      "execution_count": null,
      "outputs": [
        {
          "output_type": "stream",
          "text": [
            "[100, 130, 140, 150, 160, 170]\n"
          ],
          "name": "stdout"
        }
      ]
    },
    {
      "cell_type": "markdown",
      "metadata": {
        "id": "ydC0GoKD1ZvA"
      },
      "source": [
        "**62**"
      ]
    },
    {
      "cell_type": "code",
      "metadata": {
        "colab": {
          "base_uri": "https://localhost:8080/"
        },
        "id": "-UvgAcjB1aIL",
        "outputId": "24ab2116-1ec1-4a5e-ab26-af983acb24ee"
      },
      "source": [
        "nums = [1, 2, 3, 4, 5, 6, 7, 8, 9, 10]\n",
        "print(nums[0::2])"
      ],
      "execution_count": null,
      "outputs": [
        {
          "output_type": "stream",
          "text": [
            "[1, 3, 5, 7, 9]\n"
          ],
          "name": "stdout"
        }
      ]
    },
    {
      "cell_type": "code",
      "metadata": {
        "colab": {
          "base_uri": "https://localhost:8080/"
        },
        "id": "Pa_gbf3X16eo",
        "outputId": "5a6b7668-3e15-4faa-f8bb-26c121db458a"
      },
      "source": [
        "nums = [1, 2, 3, 4, 5, 6, 7, 8, 9, 10]\n",
        "print(nums[::2])"
      ],
      "execution_count": null,
      "outputs": [
        {
          "output_type": "stream",
          "text": [
            "[1, 3, 5, 7, 9]\n"
          ],
          "name": "stdout"
        }
      ]
    },
    {
      "cell_type": "markdown",
      "metadata": {
        "id": "jrO986f71_VI"
      },
      "source": [
        "63"
      ]
    },
    {
      "cell_type": "code",
      "metadata": {
        "colab": {
          "base_uri": "https://localhost:8080/"
        },
        "id": "0AouOhM21_w0",
        "outputId": "1decfbe5-005e-4742-adb0-9860991d1796"
      },
      "source": [
        "nums = [1, 2, 3, 4, 5, 6, 7, 8, 9, 10]\n",
        "print(nums[1::2])"
      ],
      "execution_count": null,
      "outputs": [
        {
          "output_type": "stream",
          "text": [
            "[2, 4, 6, 8, 10]\n"
          ],
          "name": "stdout"
        }
      ]
    },
    {
      "cell_type": "markdown",
      "metadata": {
        "id": "hqmXiGuJ2b2l"
      },
      "source": [
        "**64**"
      ]
    },
    {
      "cell_type": "code",
      "metadata": {
        "colab": {
          "base_uri": "https://localhost:8080/"
        },
        "id": "Kp9PlI7f2cV0",
        "outputId": "596dcad6-eafa-4b15-a892-55870d95e6ca"
      },
      "source": [
        "nums = [1, 2, 3, 4, 5]\n",
        "print(nums[::-1])"
      ],
      "execution_count": null,
      "outputs": [
        {
          "output_type": "stream",
          "text": [
            "[5, 4, 3, 2, 1]\n"
          ],
          "name": "stdout"
        }
      ]
    },
    {
      "cell_type": "markdown",
      "metadata": {
        "id": "7zSAeGsrs6ob"
      },
      "source": [
        "65"
      ]
    },
    {
      "cell_type": "code",
      "metadata": {
        "colab": {
          "base_uri": "https://localhost:8080/"
        },
        "id": "CAMpBAhPs7Hj",
        "outputId": "bd15f56d-8b9c-4901-ecd0-2cc11968279a"
      },
      "source": [
        "interest = ['삼성전자', 'LG전자', 'Naver']\n",
        "print(interest[0], interest[2])"
      ],
      "execution_count": null,
      "outputs": [
        {
          "output_type": "stream",
          "text": [
            "삼성전자 Naver\n"
          ],
          "name": "stdout"
        }
      ]
    },
    {
      "cell_type": "markdown",
      "metadata": {
        "id": "naAWIWqwtUm5"
      },
      "source": [
        "**66**"
      ]
    },
    {
      "cell_type": "code",
      "metadata": {
        "colab": {
          "base_uri": "https://localhost:8080/"
        },
        "id": "CZrVsdlOtVN6",
        "outputId": "2c6b1837-fcf7-4092-cde6-ae8da689a9e6"
      },
      "source": [
        "interest = ['삼성전자', 'LG전자', 'Naver', 'SK하이닉스', '미래에셋대우']\n",
        "print(' '.join(interest))"
      ],
      "execution_count": null,
      "outputs": [
        {
          "output_type": "stream",
          "text": [
            "삼성전자 LG전자 Naver SK하이닉스 미래에셋대우\n"
          ],
          "name": "stdout"
        }
      ]
    },
    {
      "cell_type": "code",
      "metadata": {
        "colab": {
          "base_uri": "https://localhost:8080/"
        },
        "id": "_MG8BioJuv9Y",
        "outputId": "1cad2616-446d-4b72-83fe-56596059abe6"
      },
      "source": [
        "interest = ['삼성전자', 'LG전자', 'Naver', 'SK하이닉스', '미래에셋대우']\n",
        "print(\" \".join(interest))"
      ],
      "execution_count": null,
      "outputs": [
        {
          "output_type": "stream",
          "text": [
            "삼성전자 LG전자 Naver SK하이닉스 미래에셋대우\n"
          ],
          "name": "stdout"
        }
      ]
    },
    {
      "cell_type": "markdown",
      "metadata": {
        "id": "QX12l8Kkun6X"
      },
      "source": [
        "join 함수\n",
        "\n",
        "-> '구분자'.join(리스트)"
      ]
    },
    {
      "cell_type": "markdown",
      "metadata": {
        "id": "ZGs2CmYPuzPi"
      },
      "source": [
        "67"
      ]
    },
    {
      "cell_type": "code",
      "metadata": {
        "colab": {
          "base_uri": "https://localhost:8080/"
        },
        "id": "tDmzeBNFuz8c",
        "outputId": "4bc3d841-1500-4895-dd7f-e7898f4c03e4"
      },
      "source": [
        "interest = ['삼성전자', 'LG전자', 'Naver', 'SK하이닉스', '미래에셋대우']\n",
        "print(\"/\".join(interest))"
      ],
      "execution_count": null,
      "outputs": [
        {
          "output_type": "stream",
          "text": [
            "삼성전자/LG전자/Naver/SK하이닉스/미래에셋대우\n"
          ],
          "name": "stdout"
        }
      ]
    },
    {
      "cell_type": "markdown",
      "metadata": {
        "id": "2U8Sg-K2vDcO"
      },
      "source": [
        "68"
      ]
    },
    {
      "cell_type": "code",
      "metadata": {
        "colab": {
          "base_uri": "https://localhost:8080/"
        },
        "id": "t0E1rXbwvEQw",
        "outputId": "218915c7-b0bd-4f31-9d77-3a7330e19168"
      },
      "source": [
        "interest = ['삼성전자', 'LG전자', 'Naver', 'SK하이닉스', '미래에셋대우']\n",
        "print(\"\\n\".join(interest))"
      ],
      "execution_count": null,
      "outputs": [
        {
          "output_type": "stream",
          "text": [
            "삼성전자\n",
            "LG전자\n",
            "Naver\n",
            "SK하이닉스\n",
            "미래에셋대우\n"
          ],
          "name": "stdout"
        }
      ]
    },
    {
      "cell_type": "markdown",
      "metadata": {
        "id": "AR3YhO0QvJOG"
      },
      "source": [
        "69"
      ]
    },
    {
      "cell_type": "code",
      "metadata": {
        "colab": {
          "base_uri": "https://localhost:8080/"
        },
        "id": "2T02xF6BvJ17",
        "outputId": "953cd8a8-a6c8-4677-e778-59bee2ad1b27"
      },
      "source": [
        "string = \"삼성전자/LG전자/Naver\"\n",
        "interest = string.split(\"/\")\n",
        "print(interest)"
      ],
      "execution_count": null,
      "outputs": [
        {
          "output_type": "stream",
          "text": [
            "['삼성전자', 'LG전자', 'Naver']\n"
          ],
          "name": "stdout"
        }
      ]
    },
    {
      "cell_type": "markdown",
      "metadata": {
        "id": "XSc9zx4Pvl-r"
      },
      "source": [
        "**70**"
      ]
    },
    {
      "cell_type": "code",
      "metadata": {
        "colab": {
          "base_uri": "https://localhost:8080/"
        },
        "id": "pUdcDSSivm6q",
        "outputId": "c9a9f19f-cc2a-4405-bceb-a9e6062b8f3f"
      },
      "source": [
        "data = [2, 4, 3, 1, 5, 10, 9]\n",
        "data.sort()\n",
        "print(data)"
      ],
      "execution_count": null,
      "outputs": [
        {
          "output_type": "stream",
          "text": [
            "[1, 2, 3, 4, 5, 9, 10]\n"
          ],
          "name": "stdout"
        }
      ]
    },
    {
      "cell_type": "code",
      "metadata": {
        "colab": {
          "base_uri": "https://localhost:8080/"
        },
        "id": "cbZEGP4iwHQ1",
        "outputId": "371530df-a0e2-4e23-d145-7b9312f83bd3"
      },
      "source": [
        "data = [2, 4, 3, 1, 5, 10, 9]\n",
        "data1 = sorted(data)\n",
        "print(data1)"
      ],
      "execution_count": null,
      "outputs": [
        {
          "output_type": "stream",
          "text": [
            "[1, 2, 3, 4, 5, 9, 10]\n"
          ],
          "name": "stdout"
        }
      ]
    },
    {
      "cell_type": "markdown",
      "metadata": {
        "id": "t6GoPK_jJI3p"
      },
      "source": [
        "\n",
        "\n",
        "---\n",
        "\n",
        "\n",
        "71\n"
      ]
    },
    {
      "cell_type": "code",
      "metadata": {
        "colab": {
          "base_uri": "https://localhost:8080/"
        },
        "id": "T9dDC5FlJMBm",
        "outputId": "d2ca8283-5c9f-45cb-caaa-d316ae21144c"
      },
      "source": [
        "my_variable = ()\n",
        "print(type(my_variable))"
      ],
      "execution_count": null,
      "outputs": [
        {
          "output_type": "stream",
          "text": [
            "<class 'tuple'>\n"
          ],
          "name": "stdout"
        }
      ]
    },
    {
      "cell_type": "markdown",
      "metadata": {
        "id": "22NT-Mu-JZe7"
      },
      "source": [
        "72"
      ]
    },
    {
      "cell_type": "code",
      "metadata": {
        "colab": {
          "base_uri": "https://localhost:8080/"
        },
        "id": "zgwQph0VJajW",
        "outputId": "a60a5a24-581a-4a4b-f2e3-d13e4345856c"
      },
      "source": [
        "movie_rank = (\"닥터 스트레인지\", \"스플릿\", \"럭키\")\n",
        "print(movie_rank)\n",
        "print(type(movie_rank))"
      ],
      "execution_count": null,
      "outputs": [
        {
          "output_type": "stream",
          "text": [
            "('닥터 스트레인지', '스플릿', '럭키')\n",
            "<class 'tuple'>\n"
          ],
          "name": "stdout"
        }
      ]
    },
    {
      "cell_type": "markdown",
      "metadata": {
        "id": "907C0cA4KP5b"
      },
      "source": [
        "**73**"
      ]
    },
    {
      "cell_type": "code",
      "metadata": {
        "colab": {
          "base_uri": "https://localhost:8080/"
        },
        "id": "OvNBR7ZXKQXb",
        "outputId": "a4119f0a-a693-4290-fed7-7b51981649c0"
      },
      "source": [
        "tup = (1)\n",
        "print(tup)\n",
        "print(type(tup))"
      ],
      "execution_count": null,
      "outputs": [
        {
          "output_type": "stream",
          "text": [
            "1\n",
            "<class 'int'>\n"
          ],
          "name": "stdout"
        }
      ]
    },
    {
      "cell_type": "markdown",
      "metadata": {
        "id": "OHgCpA-mu4KD"
      },
      "source": [
        "튜플을 하나의 정수로 만드려면 쉼표가 필요함"
      ]
    },
    {
      "cell_type": "code",
      "metadata": {
        "colab": {
          "base_uri": "https://localhost:8080/"
        },
        "id": "drKgedwfu9Ad",
        "outputId": "625aea61-85c7-4838-b8c5-3c5c0b6bff00"
      },
      "source": [
        "tup = (1, )\n",
        "type(tup)"
      ],
      "execution_count": null,
      "outputs": [
        {
          "output_type": "execute_result",
          "data": {
            "text/plain": [
              "tuple"
            ]
          },
          "metadata": {
            "tags": []
          },
          "execution_count": 2
        }
      ]
    },
    {
      "cell_type": "markdown",
      "metadata": {
        "id": "EGwWlZqxu8dI"
      },
      "source": [
        "74"
      ]
    },
    {
      "cell_type": "code",
      "metadata": {
        "colab": {
          "base_uri": "https://localhost:8080/",
          "height": 234
        },
        "id": "P0jgq1K2vCmD",
        "outputId": "fbdae8aa-404a-482c-f372-fc2026c6412a"
      },
      "source": [
        "t = (1, 2, 3)\n",
        "t[0] = 'a'"
      ],
      "execution_count": null,
      "outputs": [
        {
          "output_type": "error",
          "ename": "TypeError",
          "evalue": "ignored",
          "traceback": [
            "\u001b[0;31m---------------------------------------------------------------------------\u001b[0m",
            "\u001b[0;31mTypeError\u001b[0m                                 Traceback (most recent call last)",
            "\u001b[0;32m<ipython-input-3-30ae5ed3acb9>\u001b[0m in \u001b[0;36m<module>\u001b[0;34m()\u001b[0m\n\u001b[1;32m      1\u001b[0m \u001b[0mt\u001b[0m \u001b[0;34m=\u001b[0m \u001b[0;34m(\u001b[0m\u001b[0;36m1\u001b[0m\u001b[0;34m,\u001b[0m \u001b[0;36m2\u001b[0m\u001b[0;34m,\u001b[0m \u001b[0;36m3\u001b[0m\u001b[0;34m)\u001b[0m\u001b[0;34m\u001b[0m\u001b[0;34m\u001b[0m\u001b[0m\n\u001b[0;32m----> 2\u001b[0;31m \u001b[0mt\u001b[0m\u001b[0;34m[\u001b[0m\u001b[0;36m0\u001b[0m\u001b[0;34m]\u001b[0m \u001b[0;34m=\u001b[0m \u001b[0;34m'a'\u001b[0m\u001b[0;34m\u001b[0m\u001b[0;34m\u001b[0m\u001b[0m\n\u001b[0m",
            "\u001b[0;31mTypeError\u001b[0m: 'tuple' object does not support item assignment"
          ]
        }
      ]
    },
    {
      "cell_type": "markdown",
      "metadata": {
        "id": "Z3ITeWKRvGsK"
      },
      "source": [
        "튜플은 원소의 값을 변경할 수 없음"
      ]
    },
    {
      "cell_type": "markdown",
      "metadata": {
        "id": "yaz6BBd8vI44"
      },
      "source": [
        "75"
      ]
    },
    {
      "cell_type": "code",
      "metadata": {
        "colab": {
          "base_uri": "https://localhost:8080/"
        },
        "id": "LhxXVTc2vJRM",
        "outputId": "b4b139a8-eff0-4b51-bd13-e465cda2ada3"
      },
      "source": [
        "t = 1, 2, 3, 4\n",
        "type(t)"
      ],
      "execution_count": null,
      "outputs": [
        {
          "output_type": "execute_result",
          "data": {
            "text/plain": [
              "tuple"
            ]
          },
          "metadata": {
            "tags": []
          },
          "execution_count": 4
        }
      ]
    },
    {
      "cell_type": "markdown",
      "metadata": {
        "id": "psffvYknvWU2"
      },
      "source": [
        "튜플은 괄호 없이도 동작함"
      ]
    },
    {
      "cell_type": "markdown",
      "metadata": {
        "id": "atcZx77SvYmn"
      },
      "source": [
        "76"
      ]
    },
    {
      "cell_type": "code",
      "metadata": {
        "colab": {
          "base_uri": "https://localhost:8080/"
        },
        "id": "cyQnnM-jvZEd",
        "outputId": "5a41744f-6aa2-4bfc-c8e3-b782a16664a6"
      },
      "source": [
        "t = ('a', 'b', 'c')\n",
        "t = ('A', 'b', 'c')\n",
        "\n",
        "print(t)"
      ],
      "execution_count": null,
      "outputs": [
        {
          "output_type": "stream",
          "text": [
            "('A', 'b', 'c')\n"
          ],
          "name": "stdout"
        }
      ]
    },
    {
      "cell_type": "markdown",
      "metadata": {
        "id": "2qUBjUxOvu1r"
      },
      "source": [
        "77"
      ]
    },
    {
      "cell_type": "code",
      "metadata": {
        "colab": {
          "base_uri": "https://localhost:8080/"
        },
        "id": "iShXsNgevvKA",
        "outputId": "b8a820ba-954f-4238-fd5e-f293b81fd019"
      },
      "source": [
        "interest = ('삼성전자', 'LG전자', 'SK Hynix')\n",
        "list(interest)"
      ],
      "execution_count": null,
      "outputs": [
        {
          "output_type": "execute_result",
          "data": {
            "text/plain": [
              "['삼성전자', 'LG전자', 'SK Hynix']"
            ]
          },
          "metadata": {
            "tags": []
          },
          "execution_count": 6
        }
      ]
    },
    {
      "cell_type": "markdown",
      "metadata": {
        "id": "EbePAkl5wuti"
      },
      "source": [
        "78"
      ]
    },
    {
      "cell_type": "code",
      "metadata": {
        "colab": {
          "base_uri": "https://localhost:8080/"
        },
        "id": "hy6_qio5wvQa",
        "outputId": "902a8ed1-0665-4467-e5cb-a5c92bfa32bd"
      },
      "source": [
        "interest = ['삼성전자', 'LG전자', 'SK Hynix']\n",
        "tuple(interest)"
      ],
      "execution_count": null,
      "outputs": [
        {
          "output_type": "execute_result",
          "data": {
            "text/plain": [
              "('삼성전자', 'LG전자', 'SK Hynix')"
            ]
          },
          "metadata": {
            "tags": []
          },
          "execution_count": 7
        }
      ]
    },
    {
      "cell_type": "markdown",
      "metadata": {
        "id": "4-2MV8yew2KD"
      },
      "source": [
        "79"
      ]
    },
    {
      "cell_type": "code",
      "metadata": {
        "colab": {
          "base_uri": "https://localhost:8080/"
        },
        "id": "RIwyozW0w2xa",
        "outputId": "89993d28-63b3-4225-d288-bd2c94bcc2f0"
      },
      "source": [
        "temp = ('apple', 'banana', 'cake')\n",
        "a, b, c = temp\n",
        "print(a, b, c)"
      ],
      "execution_count": null,
      "outputs": [
        {
          "output_type": "stream",
          "text": [
            "apple banana cake\n"
          ],
          "name": "stdout"
        }
      ]
    },
    {
      "cell_type": "markdown",
      "metadata": {
        "id": "bptwqIKDxZJY"
      },
      "source": [
        "**80**"
      ]
    },
    {
      "cell_type": "code",
      "metadata": {
        "colab": {
          "base_uri": "https://localhost:8080/"
        },
        "id": "RdXEgga_xZt7",
        "outputId": "e317e830-0e2e-461a-fa61-4f081d68f50a"
      },
      "source": [
        "data = tuple(range (2, 100, 2))\n",
        "print(data)"
      ],
      "execution_count": null,
      "outputs": [
        {
          "output_type": "stream",
          "text": [
            "(2, 4, 6, 8, 10, 12, 14, 16, 18, 20, 22, 24, 26, 28, 30, 32, 34, 36, 38, 40, 42, 44, 46, 48, 50, 52, 54, 56, 58, 60, 62, 64, 66, 68, 70, 72, 74, 76, 78, 80, 82, 84, 86, 88, 90, 92, 94, 96, 98)\n"
          ],
          "name": "stdout"
        }
      ]
    },
    {
      "cell_type": "markdown",
      "metadata": {
        "id": "5LxYRyjfyGMU"
      },
      "source": [
        "\n",
        "\n",
        "---\n",
        "\n"
      ]
    },
    {
      "cell_type": "markdown",
      "metadata": {
        "id": "bZCCkt0byHCO"
      },
      "source": [
        "81"
      ]
    },
    {
      "cell_type": "markdown",
      "metadata": {
        "id": "lzghBacuyRqc"
      },
      "source": [
        "star expression"
      ]
    },
    {
      "cell_type": "code",
      "metadata": {
        "colab": {
          "base_uri": "https://localhost:8080/"
        },
        "id": "o1gH-bWAyS08",
        "outputId": "ef1c983a-29d1-48dc-8f47-0f886a147d6b"
      },
      "source": [
        "a, b, *c = (0, 1, 2, 3, 4, 5)\n",
        "print(a)\n",
        "print(b)\n",
        "print(c)"
      ],
      "execution_count": null,
      "outputs": [
        {
          "output_type": "stream",
          "text": [
            "0\n",
            "1\n",
            "[2, 3, 4, 5]\n"
          ],
          "name": "stdout"
        }
      ]
    },
    {
      "cell_type": "code",
      "metadata": {
        "colab": {
          "base_uri": "https://localhost:8080/"
        },
        "id": "OB7_CSVZy8sR",
        "outputId": "87d0b66a-78c5-42e6-f281-80e321651f63"
      },
      "source": [
        "scores = [8.8, 8.9, 8.7, 9.2, 9.3, 9.7, 9.9, 9.5, 7.8, 9.4]\n",
        "*valid_score, a, b = scores\n",
        "print(valid_score)"
      ],
      "execution_count": null,
      "outputs": [
        {
          "output_type": "stream",
          "text": [
            "[8.8, 8.9, 8.7, 9.2, 9.3, 9.7, 9.9, 9.5]\n"
          ],
          "name": "stdout"
        }
      ]
    },
    {
      "cell_type": "code",
      "metadata": {
        "colab": {
          "base_uri": "https://localhost:8080/"
        },
        "id": "yiiw0IeezFL0",
        "outputId": "541724b0-b62c-47de-fed1-33ea6c407c6d"
      },
      "source": [
        "scores = [8.8, 8.9, 8.7, 9.2, 9.3, 9.7, 9.9, 9.5, 7.8, 9.4]\n",
        "*valid_score, _, _ = scores\n",
        "print(valid_score)"
      ],
      "execution_count": null,
      "outputs": [
        {
          "output_type": "stream",
          "text": [
            "[8.8, 8.9, 8.7, 9.2, 9.3, 9.7, 9.9, 9.5]\n"
          ],
          "name": "stdout"
        }
      ]
    },
    {
      "cell_type": "markdown",
      "metadata": {
        "id": "h_1rG-ejy7kE"
      },
      "source": [
        "82"
      ]
    },
    {
      "cell_type": "code",
      "metadata": {
        "colab": {
          "base_uri": "https://localhost:8080/"
        },
        "id": "J5969v2xyIBb",
        "outputId": "ce39f787-8a35-42a6-b09c-dc40fb5e8b20"
      },
      "source": [
        "scores = [8.8, 8.9, 8.7, 9.2, 9.3, 9.7, 9.9, 9.5, 7.8, 9.4]\n",
        "a, b, *valid_score = tuple(scores)\n",
        "print(valid_score)"
      ],
      "execution_count": null,
      "outputs": [
        {
          "output_type": "stream",
          "text": [
            "[8.7, 9.2, 9.3, 9.7, 9.9, 9.5, 7.8, 9.4]\n"
          ],
          "name": "stdout"
        }
      ]
    },
    {
      "cell_type": "code",
      "metadata": {
        "colab": {
          "base_uri": "https://localhost:8080/"
        },
        "id": "XMc1pB1Oy29k",
        "outputId": "70a44911-957c-4f24-9200-cc493a0e05cb"
      },
      "source": [
        "scores = [8.8, 8.9, 8.7, 9.2, 9.3, 9.7, 9.9, 9.5, 7.8, 9.4]\n",
        "a, b, *valid_score = scores\n",
        "print(valid_score)"
      ],
      "execution_count": null,
      "outputs": [
        {
          "output_type": "stream",
          "text": [
            "[8.7, 9.2, 9.3, 9.7, 9.9, 9.5, 7.8, 9.4]\n"
          ],
          "name": "stdout"
        }
      ]
    },
    {
      "cell_type": "markdown",
      "metadata": {
        "id": "l0Tu-8ZPzITO"
      },
      "source": [
        "83"
      ]
    },
    {
      "cell_type": "code",
      "metadata": {
        "colab": {
          "base_uri": "https://localhost:8080/"
        },
        "id": "7XNM2GffzKB-",
        "outputId": "5e07d467-99a9-4ce8-d358-0bdfd13315c8"
      },
      "source": [
        "scores = [8.8, 8.9, 8.7, 9.2, 9.3, 9.7, 9.9, 9.5, 7.8, 9.4]\n",
        "a, *valid_score, _ = scores\n",
        "print(valid_score)"
      ],
      "execution_count": null,
      "outputs": [
        {
          "output_type": "stream",
          "text": [
            "[8.9, 8.7, 9.2, 9.3, 9.7, 9.9, 9.5, 7.8]\n"
          ],
          "name": "stdout"
        }
      ]
    },
    {
      "cell_type": "code",
      "metadata": {
        "colab": {
          "base_uri": "https://localhost:8080/"
        },
        "id": "HLwFbee2zS3i",
        "outputId": "61207682-e9f7-427a-e96b-3a5ef734f84e"
      },
      "source": [
        "scores = [8.8, 8.9, 8.7, 9.2, 9.3, 9.7, 9.9, 9.5, 7.8, 9.4]\n",
        "a, *valid_score, b = scores\n",
        "print(valid_score)"
      ],
      "execution_count": null,
      "outputs": [
        {
          "output_type": "stream",
          "text": [
            "[8.9, 8.7, 9.2, 9.3, 9.7, 9.9, 9.5, 7.8]\n"
          ],
          "name": "stdout"
        }
      ]
    },
    {
      "cell_type": "markdown",
      "metadata": {
        "id": "i6TG92kqzUug"
      },
      "source": [
        "84"
      ]
    },
    {
      "cell_type": "markdown",
      "metadata": {
        "id": "WA1Cw3ezza8O"
      },
      "source": [
        "빈 딕셔너리 만들기"
      ]
    },
    {
      "cell_type": "code",
      "metadata": {
        "id": "zzM9U2cbzVUG"
      },
      "source": [
        "temp = {}"
      ],
      "execution_count": null,
      "outputs": []
    },
    {
      "cell_type": "markdown",
      "metadata": {
        "id": "4DLV_h8nzqzC"
      },
      "source": [
        "85"
      ]
    },
    {
      "cell_type": "code",
      "metadata": {
        "colab": {
          "base_uri": "https://localhost:8080/"
        },
        "id": "sUhxFCbNzr7Q",
        "outputId": "2f194084-96ae-4f5c-e18d-2c5f38ce63b1"
      },
      "source": [
        "ice = {'메로나' : 1000, '폴라포' : 1200, '빵빠레' : 1800}\n",
        "print(ice)"
      ],
      "execution_count": null,
      "outputs": [
        {
          "output_type": "stream",
          "text": [
            "{'메로나': 1000, '폴라포': 1200, '빵빠레': 1800}\n"
          ],
          "name": "stdout"
        }
      ]
    },
    {
      "cell_type": "code",
      "metadata": {
        "colab": {
          "base_uri": "https://localhost:8080/"
        },
        "id": "BhuIkuwgz8Yu",
        "outputId": "973572c2-cfde-4340-e5b2-c14678dbe73d"
      },
      "source": [
        "ice = {\"메로나\" : 1000, \"폴라포\" : 1200, \"빵빠레\" : 1800}\n",
        "print(ice)"
      ],
      "execution_count": null,
      "outputs": [
        {
          "output_type": "stream",
          "text": [
            "{'메로나': 1000, '폴라포': 1200, '빵빠레': 1800}\n"
          ],
          "name": "stdout"
        }
      ]
    },
    {
      "cell_type": "markdown",
      "metadata": {
        "id": "SPZcYkiR0JGT"
      },
      "source": [
        "86"
      ]
    },
    {
      "cell_type": "code",
      "metadata": {
        "colab": {
          "base_uri": "https://localhost:8080/"
        },
        "id": "h_aIZtjW0J2l",
        "outputId": "463f7c6d-aa0a-4671-ce72-40bcf70e0939"
      },
      "source": [
        "ice['죠스바'] = 1200\n",
        "ice['월드콘'] = 1500\n",
        "print(ice)"
      ],
      "execution_count": null,
      "outputs": [
        {
          "output_type": "stream",
          "text": [
            "{'메로나': 1000, '폴라포': 1200, '빵빠레': 1800, '죠스바': 1200, '월드콘': 1500}\n"
          ],
          "name": "stdout"
        }
      ]
    },
    {
      "cell_type": "markdown",
      "metadata": {
        "id": "yXyUnpH-0edF"
      },
      "source": [
        "87"
      ]
    },
    {
      "cell_type": "code",
      "metadata": {
        "colab": {
          "base_uri": "https://localhost:8080/"
        },
        "id": "EWYW9mOc0fH3",
        "outputId": "d3f4f8dc-d040-4b1b-fda7-798ca240f01c"
      },
      "source": [
        "ice = {'메로나': 1000,\n",
        "       '폴라포': 1200,\n",
        "       '빵빠레': 1800,\n",
        "       '죠스바': 1200,\n",
        "       '월드콘': 1500}\n",
        "print(\"메로나 가격 : \", ice['메로나'])"
      ],
      "execution_count": null,
      "outputs": [
        {
          "output_type": "stream",
          "text": [
            "메로나 가격 :  1000\n"
          ],
          "name": "stdout"
        }
      ]
    },
    {
      "cell_type": "markdown",
      "metadata": {
        "id": "V1hhmI2c0sb8"
      },
      "source": [
        "88"
      ]
    },
    {
      "cell_type": "code",
      "metadata": {
        "colab": {
          "base_uri": "https://localhost:8080/"
        },
        "id": "ImM5G3U_0s6q",
        "outputId": "2d639715-65c5-465d-eed4-772a671e20fd"
      },
      "source": [
        "ice = {'메로나': 1000,\n",
        "       '폴라포': 1200,\n",
        "       '빵빠레': 1800,\n",
        "       '죠스바': 1200,\n",
        "       '월드콘': 1500}\n",
        "ice['메로나'] = 1300\n",
        "print(ice)"
      ],
      "execution_count": null,
      "outputs": [
        {
          "output_type": "stream",
          "text": [
            "{'메로나': 1300, '폴라포': 1200, '빵빠레': 1800, '죠스바': 1200, '월드콘': 1500}\n"
          ],
          "name": "stdout"
        }
      ]
    },
    {
      "cell_type": "markdown",
      "metadata": {
        "id": "_ixdegvN0zue"
      },
      "source": [
        "89"
      ]
    },
    {
      "cell_type": "code",
      "metadata": {
        "colab": {
          "base_uri": "https://localhost:8080/"
        },
        "id": "FRlrfcmi00OW",
        "outputId": "14a520d2-c90e-424d-b8ec-97a9d9d4ef68"
      },
      "source": [
        "del ice['메로나']\n",
        "print(ice)"
      ],
      "execution_count": null,
      "outputs": [
        {
          "output_type": "stream",
          "text": [
            "{'폴라포': 1200, '빵빠레': 1800, '죠스바': 1200, '월드콘': 1500}\n"
          ],
          "name": "stdout"
        }
      ]
    },
    {
      "cell_type": "markdown",
      "metadata": {
        "id": "IIPMsRsV04w_"
      },
      "source": [
        "90"
      ]
    },
    {
      "cell_type": "code",
      "metadata": {
        "colab": {
          "base_uri": "https://localhost:8080/",
          "height": 196
        },
        "id": "WQhtj_lQ05XR",
        "outputId": "8c3e3444-7f23-4fd6-f28d-0967ccc6a3b0"
      },
      "source": [
        "icecream = {'폴라포' : 1200, '빵빠레' : 1800, '월드콘' : 1500, '메로나' : 1000}\n",
        "icecream['누가바']"
      ],
      "execution_count": null,
      "outputs": [
        {
          "output_type": "error",
          "ename": "KeyError",
          "evalue": "ignored",
          "traceback": [
            "\u001b[0;31m---------------------------------------------------------------------------\u001b[0m",
            "\u001b[0;31mKeyError\u001b[0m                                  Traceback (most recent call last)",
            "\u001b[0;32m<ipython-input-33-719a314d743d>\u001b[0m in \u001b[0;36m<module>\u001b[0;34m()\u001b[0m\n\u001b[1;32m      1\u001b[0m \u001b[0micecream\u001b[0m \u001b[0;34m=\u001b[0m \u001b[0;34m{\u001b[0m\u001b[0;34m'폴라포'\u001b[0m \u001b[0;34m:\u001b[0m \u001b[0;36m1200\u001b[0m\u001b[0;34m,\u001b[0m \u001b[0;34m'빵빠레'\u001b[0m \u001b[0;34m:\u001b[0m \u001b[0;36m1800\u001b[0m\u001b[0;34m,\u001b[0m \u001b[0;34m'월드콘'\u001b[0m \u001b[0;34m:\u001b[0m \u001b[0;36m1500\u001b[0m\u001b[0;34m,\u001b[0m \u001b[0;34m'메로나'\u001b[0m \u001b[0;34m:\u001b[0m \u001b[0;36m1000\u001b[0m\u001b[0;34m}\u001b[0m\u001b[0;34m\u001b[0m\u001b[0;34m\u001b[0m\u001b[0m\n\u001b[0;32m----> 2\u001b[0;31m \u001b[0micecream\u001b[0m\u001b[0;34m[\u001b[0m\u001b[0;34m'누가바'\u001b[0m\u001b[0;34m]\u001b[0m\u001b[0;34m\u001b[0m\u001b[0;34m\u001b[0m\u001b[0m\n\u001b[0m",
            "\u001b[0;31mKeyError\u001b[0m: '누가바'"
          ]
        }
      ]
    },
    {
      "cell_type": "markdown",
      "metadata": {
        "id": "JoP0r23D1EIY"
      },
      "source": [
        "\n",
        "\n",
        "---\n",
        "\n"
      ]
    },
    {
      "cell_type": "code",
      "metadata": {
        "id": "RT9xcAFM1FL1"
      },
      "source": [
        ""
      ],
      "execution_count": null,
      "outputs": []
    }
  ]
}